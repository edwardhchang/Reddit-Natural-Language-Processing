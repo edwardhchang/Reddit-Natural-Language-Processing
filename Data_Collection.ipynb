{
 "cells": [
  {
   "cell_type": "markdown",
   "id": "5cafe12a-c168-45e7-8a86-4a209000ba88",
   "metadata": {},
   "source": [
    "## Improts"
   ]
  },
  {
   "cell_type": "code",
   "execution_count": 1,
   "id": "98025ffd-a04e-4f24-a04a-858f6ceb0749",
   "metadata": {},
   "outputs": [],
   "source": [
    "import requests\n",
    "import pandas as pd\n",
    "import time\n",
    "import datetime as dt"
   ]
  },
  {
   "cell_type": "code",
   "execution_count": 2,
   "id": "214606cd-7037-4c8d-9335-ed3f18c17881",
   "metadata": {},
   "outputs": [],
   "source": [
    "#Setting UNIX time stamp\n",
    "unix_time_stamp = 1627417795"
   ]
  },
  {
   "cell_type": "code",
   "execution_count": 3,
   "id": "40db8095-38a1-4514-bb30-d82d27275056",
   "metadata": {},
   "outputs": [],
   "source": [
    "#Setting our parameters for our function we will define\n",
    "s_type = 'submission'\n",
    "subreddit = 'offmychest'\n",
    "url = f'https://api.pushshift.io/reddit/search/{s_type}/?subreddit={subreddit}&before={unix_time_stamp}&size=100'"
   ]
  },
  {
   "cell_type": "code",
   "execution_count": 4,
   "id": "865e4b9b-8440-40a2-9101-d90ce6429e3c",
   "metadata": {},
   "outputs": [
    {
     "data": {
      "text/plain": [
       "'https://api.pushshift.io/reddit/search/submission/?subreddit=offmychest&before=1627417795&size=100'"
      ]
     },
     "execution_count": 4,
     "metadata": {},
     "output_type": "execute_result"
    }
   ],
   "source": [
    "#Showing that our url is formatted as it should be\n",
    "url"
   ]
  },
  {
   "cell_type": "code",
   "execution_count": 7,
   "id": "0c16f8f6-e92c-4a3f-827b-eda6b1e5bd63",
   "metadata": {},
   "outputs": [],
   "source": [
    "#Creating an initial dataframe for our offmychest posts\n",
    "res = requests.get(url)\n",
    "assert res.status_code == 200\n",
    "post_list = res.json()['data']\n",
    "full_df = pd.DataFrame(post_list)[['id','title', 'author', 'created_utc', 'subreddit', 'selftext']]"
   ]
  },
  {
   "cell_type": "code",
   "execution_count": 8,
   "id": "7730c351-2149-45d2-b5b0-1b86bf30e9fe",
   "metadata": {},
   "outputs": [],
   "source": [
    "#Saving our posts as a csv file\n",
    "full_df.to_csv('./data/offmychest_posts.csv', index = False)"
   ]
  },
  {
   "cell_type": "code",
   "execution_count": 1,
   "id": "76efa46d-e83f-4a32-8d28-5e12c59e5a9f",
   "metadata": {},
   "outputs": [
    {
     "ename": "NameError",
     "evalue": "name 'full_df' is not defined",
     "output_type": "error",
     "traceback": [
      "\u001b[1;31m---------------------------------------------------------------------------\u001b[0m",
      "\u001b[1;31mNameError\u001b[0m                                 Traceback (most recent call last)",
      "\u001b[1;32m<ipython-input-1-fe8eec76f04c>\u001b[0m in \u001b[0;36m<module>\u001b[1;34m\u001b[0m\n\u001b[0;32m      1\u001b[0m \u001b[1;31m#Quick peek at our posts to make sure this initial data frame looks as it should\u001b[0m\u001b[1;33m\u001b[0m\u001b[1;33m\u001b[0m\u001b[1;33m\u001b[0m\u001b[0m\n\u001b[1;32m----> 2\u001b[1;33m \u001b[0mfull_df\u001b[0m\u001b[1;33m.\u001b[0m\u001b[0mhead\u001b[0m\u001b[1;33m(\u001b[0m\u001b[1;33m)\u001b[0m\u001b[1;33m\u001b[0m\u001b[1;33m\u001b[0m\u001b[0m\n\u001b[0m",
      "\u001b[1;31mNameError\u001b[0m: name 'full_df' is not defined"
     ]
    }
   ],
   "source": [
    "#Quick peek at our posts to make sure this initial data frame looks as it should\n",
    "full_df.head()"
   ]
  },
  {
   "cell_type": "code",
   "execution_count": 11,
   "id": "5c806eb7-67df-4fa7-aef9-a60d6ddb8893",
   "metadata": {},
   "outputs": [],
   "source": [
    "#Creating a function to iterate a certain number of times and add new posts to our initial dataframe. \n",
    "def pushshift_query(full_df_path, subreddit, s_type, iters):\n",
    "    for pull in range(iters):\n",
    "        full_df = pd.read_csv(full_df_path)\n",
    "        url = f'https://api.pushshift.io/reddit/search/{s_type}/?subreddit={subreddit}&before={full_df[\"created_utc\"].min()}&size=100'\n",
    "\n",
    "        res = requests.get(url)\n",
    "        \n",
    "        if res.status_code == 200:\n",
    "            post_list = res.json()['data']\n",
    "            temp_df = pd.DataFrame(post_list)[['id', 'title', 'author', 'created_utc', 'subreddit', 'selftext']]\n",
    "            full_df = pd.concat([full_df, temp_df])\n",
    "            print(full_df.shape)\n",
    "            print(full_df['title'].nunique())\n",
    "            print('waiting until next pull...')\n",
    "\n",
    "            time.sleep(5) #if you don't do this, you will be rate limited. they will block the IP address if you continue. 5 is what they ask \n",
    "        else:\n",
    "            continue\n",
    "    \n",
    "        full_df.to_csv(full_df_path, index = False)"
   ]
  },
  {
   "cell_type": "code",
   "execution_count": 12,
   "id": "707758f6-2fff-42b2-bc12-cfb194c01c24",
   "metadata": {},
   "outputs": [
    {
     "name": "stdout",
     "output_type": "stream",
     "text": [
      "(200, 6)\n",
      "194\n",
      "waiting until next pull...\n",
      "(300, 6)\n",
      "288\n",
      "waiting until next pull...\n",
      "(400, 6)\n",
      "386\n",
      "waiting until next pull...\n",
      "(500, 6)\n",
      "483\n",
      "waiting until next pull...\n",
      "(600, 6)\n",
      "583\n",
      "waiting until next pull...\n",
      "(700, 6)\n",
      "682\n",
      "waiting until next pull...\n",
      "(800, 6)\n",
      "781\n",
      "waiting until next pull...\n",
      "(900, 6)\n",
      "876\n",
      "waiting until next pull...\n",
      "(1000, 6)\n",
      "975\n",
      "waiting until next pull...\n",
      "(1100, 6)\n",
      "1073\n",
      "waiting until next pull...\n"
     ]
    }
   ],
   "source": [
    "#Iterating through off my chest 10 times\n",
    "pushshift_query(full_df_path='./data/offmychest_posts.csv', subreddit = 'offmychest', s_type = 'submission', iters = 10)"
   ]
  },
  {
   "cell_type": "code",
   "execution_count": 13,
   "id": "f4df9dee-52f2-4999-b664-5283220230ab",
   "metadata": {},
   "outputs": [
    {
     "name": "stdout",
     "output_type": "stream",
     "text": [
      "(1200, 6)\n",
      "1170\n",
      "waiting until next pull...\n",
      "(1300, 6)\n",
      "1264\n",
      "waiting until next pull...\n",
      "(1400, 6)\n",
      "1361\n",
      "waiting until next pull...\n",
      "(1500, 6)\n",
      "1458\n",
      "waiting until next pull...\n",
      "(1600, 6)\n",
      "1558\n",
      "waiting until next pull...\n",
      "(1700, 6)\n",
      "1656\n",
      "waiting until next pull...\n",
      "(1800, 6)\n",
      "1755\n",
      "waiting until next pull...\n",
      "(1900, 6)\n",
      "1853\n",
      "waiting until next pull...\n",
      "(2000, 6)\n",
      "1950\n",
      "waiting until next pull...\n",
      "(2100, 6)\n",
      "2045\n",
      "waiting until next pull...\n"
     ]
    }
   ],
   "source": [
    "#Iterating another 10 times to reach 2000 posts\n",
    "pushshift_query(full_df_path='./data/offmychest_posts.csv', subreddit = 'offmychest', s_type = 'submission', iters = 10)"
   ]
  },
  {
   "cell_type": "code",
   "execution_count": 14,
   "id": "1a73c8e0-1c1c-445f-b541-d3e64b6cf125",
   "metadata": {},
   "outputs": [],
   "source": [
    "omc_posts = pd.read_csv('./data/offmychest_posts.csv')"
   ]
  },
  {
   "cell_type": "code",
   "execution_count": 15,
   "id": "b27260a8-db44-4636-8b66-a05273d3243e",
   "metadata": {},
   "outputs": [
    {
     "data": {
      "text/html": [
       "<div>\n",
       "<style scoped>\n",
       "    .dataframe tbody tr th:only-of-type {\n",
       "        vertical-align: middle;\n",
       "    }\n",
       "\n",
       "    .dataframe tbody tr th {\n",
       "        vertical-align: top;\n",
       "    }\n",
       "\n",
       "    .dataframe thead th {\n",
       "        text-align: right;\n",
       "    }\n",
       "</style>\n",
       "<table border=\"1\" class=\"dataframe\">\n",
       "  <thead>\n",
       "    <tr style=\"text-align: right;\">\n",
       "      <th></th>\n",
       "      <th>id</th>\n",
       "      <th>title</th>\n",
       "      <th>author</th>\n",
       "      <th>created_utc</th>\n",
       "      <th>subreddit</th>\n",
       "      <th>selftext</th>\n",
       "    </tr>\n",
       "  </thead>\n",
       "  <tbody>\n",
       "    <tr>\n",
       "      <th>0</th>\n",
       "      <td>ostldw</td>\n",
       "      <td>Since when bullying is a way of joking?</td>\n",
       "      <td>Suzyshtal</td>\n",
       "      <td>1627414536</td>\n",
       "      <td>offmychest</td>\n",
       "      <td>I was bullied by a group of boys online becaus...</td>\n",
       "    </tr>\n",
       "    <tr>\n",
       "      <th>1</th>\n",
       "      <td>ostkrj</td>\n",
       "      <td>I really want to work at this company, and wai...</td>\n",
       "      <td>newtons_apprentice</td>\n",
       "      <td>1627414478</td>\n",
       "      <td>offmychest</td>\n",
       "      <td>I'm so excited about this opportunity. The int...</td>\n",
       "    </tr>\n",
       "    <tr>\n",
       "      <th>2</th>\n",
       "      <td>ostk97</td>\n",
       "      <td>So my HS crush was my physiotherapist today...</td>\n",
       "      <td>dense_block_9933</td>\n",
       "      <td>1627414430</td>\n",
       "      <td>offmychest</td>\n",
       "      <td>I injured myself in a previous incident and de...</td>\n",
       "    </tr>\n",
       "    <tr>\n",
       "      <th>3</th>\n",
       "      <td>ostjjo</td>\n",
       "      <td>I got into Columbia</td>\n",
       "      <td>Kate032</td>\n",
       "      <td>1627414363</td>\n",
       "      <td>offmychest</td>\n",
       "      <td>Here’s something positive! I won’t be telling ...</td>\n",
       "    </tr>\n",
       "    <tr>\n",
       "      <th>4</th>\n",
       "      <td>ostilr</td>\n",
       "      <td>I Hate Being Disabled and I Wish I Did More Wh...</td>\n",
       "      <td>Gardevoir234</td>\n",
       "      <td>1627414271</td>\n",
       "      <td>offmychest</td>\n",
       "      <td>I've had chronic lower back pain for years and...</td>\n",
       "    </tr>\n",
       "    <tr>\n",
       "      <th>...</th>\n",
       "      <td>...</td>\n",
       "      <td>...</td>\n",
       "      <td>...</td>\n",
       "      <td>...</td>\n",
       "      <td>...</td>\n",
       "      <td>...</td>\n",
       "    </tr>\n",
       "    <tr>\n",
       "      <th>2095</th>\n",
       "      <td>oqr5w4</td>\n",
       "      <td>I almost died on Wednesday</td>\n",
       "      <td>RedbeardRagnar</td>\n",
       "      <td>1627137117</td>\n",
       "      <td>offmychest</td>\n",
       "      <td>Me and a friend had a kayak trip planned down ...</td>\n",
       "    </tr>\n",
       "    <tr>\n",
       "      <th>2096</th>\n",
       "      <td>oqr4wk</td>\n",
       "      <td>I don't know how to talk to people/spend time ...</td>\n",
       "      <td>heellpme</td>\n",
       "      <td>1627137042</td>\n",
       "      <td>offmychest</td>\n",
       "      <td>My family told me a lot that I'm not easy to t...</td>\n",
       "    </tr>\n",
       "    <tr>\n",
       "      <th>2097</th>\n",
       "      <td>oqr4k0</td>\n",
       "      <td>Just a vent about some of my friends.</td>\n",
       "      <td>Balderdash_the_owl</td>\n",
       "      <td>1627137019</td>\n",
       "      <td>offmychest</td>\n",
       "      <td>[removed]</td>\n",
       "    </tr>\n",
       "    <tr>\n",
       "      <th>2098</th>\n",
       "      <td>oqr482</td>\n",
       "      <td>Was he being inappropriate?</td>\n",
       "      <td>calm_in_chaos</td>\n",
       "      <td>1627136991</td>\n",
       "      <td>offmychest</td>\n",
       "      <td>was he being inappropriate? or was it just me ...</td>\n",
       "    </tr>\n",
       "    <tr>\n",
       "      <th>2099</th>\n",
       "      <td>oqr3t6</td>\n",
       "      <td>I hate people who are always passive aggressive</td>\n",
       "      <td>IceMountain10</td>\n",
       "      <td>1627136952</td>\n",
       "      <td>offmychest</td>\n",
       "      <td>I just hate passive aggressive people so much,...</td>\n",
       "    </tr>\n",
       "  </tbody>\n",
       "</table>\n",
       "<p>2100 rows × 6 columns</p>\n",
       "</div>"
      ],
      "text/plain": [
       "          id                                              title  \\\n",
       "0     ostldw            Since when bullying is a way of joking?   \n",
       "1     ostkrj  I really want to work at this company, and wai...   \n",
       "2     ostk97     So my HS crush was my physiotherapist today...   \n",
       "3     ostjjo                                I got into Columbia   \n",
       "4     ostilr  I Hate Being Disabled and I Wish I Did More Wh...   \n",
       "...      ...                                                ...   \n",
       "2095  oqr5w4                         I almost died on Wednesday   \n",
       "2096  oqr4wk  I don't know how to talk to people/spend time ...   \n",
       "2097  oqr4k0              Just a vent about some of my friends.   \n",
       "2098  oqr482                        Was he being inappropriate?   \n",
       "2099  oqr3t6    I hate people who are always passive aggressive   \n",
       "\n",
       "                  author  created_utc   subreddit  \\\n",
       "0              Suzyshtal   1627414536  offmychest   \n",
       "1     newtons_apprentice   1627414478  offmychest   \n",
       "2       dense_block_9933   1627414430  offmychest   \n",
       "3                Kate032   1627414363  offmychest   \n",
       "4           Gardevoir234   1627414271  offmychest   \n",
       "...                  ...          ...         ...   \n",
       "2095      RedbeardRagnar   1627137117  offmychest   \n",
       "2096            heellpme   1627137042  offmychest   \n",
       "2097  Balderdash_the_owl   1627137019  offmychest   \n",
       "2098       calm_in_chaos   1627136991  offmychest   \n",
       "2099       IceMountain10   1627136952  offmychest   \n",
       "\n",
       "                                               selftext  \n",
       "0     I was bullied by a group of boys online becaus...  \n",
       "1     I'm so excited about this opportunity. The int...  \n",
       "2     I injured myself in a previous incident and de...  \n",
       "3     Here’s something positive! I won’t be telling ...  \n",
       "4     I've had chronic lower back pain for years and...  \n",
       "...                                                 ...  \n",
       "2095  Me and a friend had a kayak trip planned down ...  \n",
       "2096  My family told me a lot that I'm not easy to t...  \n",
       "2097                                          [removed]  \n",
       "2098  was he being inappropriate? or was it just me ...  \n",
       "2099  I just hate passive aggressive people so much,...  \n",
       "\n",
       "[2100 rows x 6 columns]"
      ]
     },
     "execution_count": 15,
     "metadata": {},
     "output_type": "execute_result"
    }
   ],
   "source": [
    "omc_posts"
   ]
  },
  {
   "cell_type": "code",
   "execution_count": 16,
   "id": "69af0d5b-60a4-40ef-b770-1f52a76a1b0f",
   "metadata": {},
   "outputs": [],
   "source": [
    "#Doing the same steps as above, but for r/AmItheAsshole\n",
    "unix_time_stamp = 1627417795\n",
    "s_type = 'submission'\n",
    "subreddit = 'AmItheAsshole'\n",
    "url = f'https://api.pushshift.io/reddit/search/{s_type}/?subreddit={subreddit}&before={unix_time_stamp}&size=100'"
   ]
  },
  {
   "cell_type": "code",
   "execution_count": 19,
   "id": "18f036ef-93bc-4b68-ba32-bcfce6d88a15",
   "metadata": {},
   "outputs": [],
   "source": [
    "res = requests.get(url)\n",
    "assert res.status_code == 200\n",
    "post_list = res.json()['data']\n",
    "full_df = pd.DataFrame(post_list)[['id', 'title', 'author', 'created_utc', 'subreddit', 'selftext']]"
   ]
  },
  {
   "cell_type": "code",
   "execution_count": 20,
   "id": "68cb8952-4b8b-4784-aa7e-a37b4f191304",
   "metadata": {},
   "outputs": [],
   "source": [
    "full_df.to_csv('./data/amitheasshole_posts.csv', index = False)"
   ]
  },
  {
   "cell_type": "code",
   "execution_count": 21,
   "id": "11e1e381-120d-41e2-8d83-4de2f3098abe",
   "metadata": {},
   "outputs": [
    {
     "data": {
      "text/html": [
       "<div>\n",
       "<style scoped>\n",
       "    .dataframe tbody tr th:only-of-type {\n",
       "        vertical-align: middle;\n",
       "    }\n",
       "\n",
       "    .dataframe tbody tr th {\n",
       "        vertical-align: top;\n",
       "    }\n",
       "\n",
       "    .dataframe thead th {\n",
       "        text-align: right;\n",
       "    }\n",
       "</style>\n",
       "<table border=\"1\" class=\"dataframe\">\n",
       "  <thead>\n",
       "    <tr style=\"text-align: right;\">\n",
       "      <th></th>\n",
       "      <th>id</th>\n",
       "      <th>title</th>\n",
       "      <th>author</th>\n",
       "      <th>created_utc</th>\n",
       "      <th>subreddit</th>\n",
       "      <th>selftext</th>\n",
       "    </tr>\n",
       "  </thead>\n",
       "  <tbody>\n",
       "    <tr>\n",
       "      <th>0</th>\n",
       "      <td>ostlf5</td>\n",
       "      <td>AITA for wanting money to fix my book?</td>\n",
       "      <td>TeamAbadonMC</td>\n",
       "      <td>1627414538</td>\n",
       "      <td>AmItheAsshole</td>\n",
       "      <td>So, my little sister recently ripped the cover...</td>\n",
       "    </tr>\n",
       "    <tr>\n",
       "      <th>1</th>\n",
       "      <td>ostkwc</td>\n",
       "      <td>AITA - Uninviting my Maid of Honor to my Wedding</td>\n",
       "      <td>Sufficient-Many-5697</td>\n",
       "      <td>1627414492</td>\n",
       "      <td>AmItheAsshole</td>\n",
       "      <td>To provide full context - 3000 isn't enough\\n\\...</td>\n",
       "    </tr>\n",
       "    <tr>\n",
       "      <th>2</th>\n",
       "      <td>ostkeh</td>\n",
       "      <td>AITA for not telling my partner about my famil...</td>\n",
       "      <td>angel_cherr</td>\n",
       "      <td>1627414445</td>\n",
       "      <td>AmItheAsshole</td>\n",
       "      <td>So, this was a while ago, but I can't stop thi...</td>\n",
       "    </tr>\n",
       "    <tr>\n",
       "      <th>3</th>\n",
       "      <td>ostiqa</td>\n",
       "      <td>AITA for leaving the group chat?</td>\n",
       "      <td>mediumrareperson</td>\n",
       "      <td>1627414283</td>\n",
       "      <td>AmItheAsshole</td>\n",
       "      <td>So, excuse my bad grammar and bad formatting.\\...</td>\n",
       "    </tr>\n",
       "    <tr>\n",
       "      <th>4</th>\n",
       "      <td>ostidb</td>\n",
       "      <td>WIBTA if I didnt want my gf to come to a conce...</td>\n",
       "      <td>macncheesebitch</td>\n",
       "      <td>1627414249</td>\n",
       "      <td>AmItheAsshole</td>\n",
       "      <td>So this is an \"Am I the Asshole\" + \"Am I being...</td>\n",
       "    </tr>\n",
       "    <tr>\n",
       "      <th>...</th>\n",
       "      <td>...</td>\n",
       "      <td>...</td>\n",
       "      <td>...</td>\n",
       "      <td>...</td>\n",
       "      <td>...</td>\n",
       "      <td>...</td>\n",
       "    </tr>\n",
       "    <tr>\n",
       "      <th>95</th>\n",
       "      <td>osrwtk</td>\n",
       "      <td>AITA for not wanting to be around a friend who...</td>\n",
       "      <td>pm-for-good-time</td>\n",
       "      <td>1627408993</td>\n",
       "      <td>AmItheAsshole</td>\n",
       "      <td>So this kind of blew up the other day. Got a f...</td>\n",
       "    </tr>\n",
       "    <tr>\n",
       "      <th>96</th>\n",
       "      <td>osrwo3</td>\n",
       "      <td>AITA for refusing to pick up a letter for my f...</td>\n",
       "      <td>AidenWox</td>\n",
       "      <td>1627408980</td>\n",
       "      <td>AmItheAsshole</td>\n",
       "      <td>My father expects me to drive a total of 40min...</td>\n",
       "    </tr>\n",
       "    <tr>\n",
       "      <th>97</th>\n",
       "      <td>osrw3i</td>\n",
       "      <td>AITA for agreeing with my (24F) friend (30F) t...</td>\n",
       "      <td>theokayduck</td>\n",
       "      <td>1627408927</td>\n",
       "      <td>AmItheAsshole</td>\n",
       "      <td>I temporarily lived with my friend for a month...</td>\n",
       "    </tr>\n",
       "    <tr>\n",
       "      <th>98</th>\n",
       "      <td>osrvtd</td>\n",
       "      <td>AITA for not truly apologizing to my husband?</td>\n",
       "      <td>ArgumentOk8686</td>\n",
       "      <td>1627408903</td>\n",
       "      <td>AmItheAsshole</td>\n",
       "      <td>[removed]</td>\n",
       "    </tr>\n",
       "    <tr>\n",
       "      <th>99</th>\n",
       "      <td>osrvbi</td>\n",
       "      <td>AITA for watching Critical Role?</td>\n",
       "      <td>ymcabitch</td>\n",
       "      <td>1627408858</td>\n",
       "      <td>AmItheAsshole</td>\n",
       "      <td>So I've been a big fan of the DnD show Critica...</td>\n",
       "    </tr>\n",
       "  </tbody>\n",
       "</table>\n",
       "<p>100 rows × 6 columns</p>\n",
       "</div>"
      ],
      "text/plain": [
       "        id                                              title  \\\n",
       "0   ostlf5             AITA for wanting money to fix my book?   \n",
       "1   ostkwc   AITA - Uninviting my Maid of Honor to my Wedding   \n",
       "2   ostkeh  AITA for not telling my partner about my famil...   \n",
       "3   ostiqa                   AITA for leaving the group chat?   \n",
       "4   ostidb  WIBTA if I didnt want my gf to come to a conce...   \n",
       "..     ...                                                ...   \n",
       "95  osrwtk  AITA for not wanting to be around a friend who...   \n",
       "96  osrwo3  AITA for refusing to pick up a letter for my f...   \n",
       "97  osrw3i  AITA for agreeing with my (24F) friend (30F) t...   \n",
       "98  osrvtd      AITA for not truly apologizing to my husband?   \n",
       "99  osrvbi                   AITA for watching Critical Role?   \n",
       "\n",
       "                  author  created_utc      subreddit  \\\n",
       "0           TeamAbadonMC   1627414538  AmItheAsshole   \n",
       "1   Sufficient-Many-5697   1627414492  AmItheAsshole   \n",
       "2            angel_cherr   1627414445  AmItheAsshole   \n",
       "3       mediumrareperson   1627414283  AmItheAsshole   \n",
       "4        macncheesebitch   1627414249  AmItheAsshole   \n",
       "..                   ...          ...            ...   \n",
       "95      pm-for-good-time   1627408993  AmItheAsshole   \n",
       "96              AidenWox   1627408980  AmItheAsshole   \n",
       "97           theokayduck   1627408927  AmItheAsshole   \n",
       "98        ArgumentOk8686   1627408903  AmItheAsshole   \n",
       "99             ymcabitch   1627408858  AmItheAsshole   \n",
       "\n",
       "                                             selftext  \n",
       "0   So, my little sister recently ripped the cover...  \n",
       "1   To provide full context - 3000 isn't enough\\n\\...  \n",
       "2   So, this was a while ago, but I can't stop thi...  \n",
       "3   So, excuse my bad grammar and bad formatting.\\...  \n",
       "4   So this is an \"Am I the Asshole\" + \"Am I being...  \n",
       "..                                                ...  \n",
       "95  So this kind of blew up the other day. Got a f...  \n",
       "96  My father expects me to drive a total of 40min...  \n",
       "97  I temporarily lived with my friend for a month...  \n",
       "98                                          [removed]  \n",
       "99  So I've been a big fan of the DnD show Critica...  \n",
       "\n",
       "[100 rows x 6 columns]"
      ]
     },
     "execution_count": 21,
     "metadata": {},
     "output_type": "execute_result"
    }
   ],
   "source": [
    "full_df"
   ]
  },
  {
   "cell_type": "code",
   "execution_count": 22,
   "id": "ef480c1e-9c4b-4c05-8c41-66d39c9544ae",
   "metadata": {},
   "outputs": [
    {
     "name": "stdout",
     "output_type": "stream",
     "text": [
      "(200, 6)\n",
      "191\n",
      "waiting until next pull...\n",
      "(300, 6)\n",
      "287\n",
      "waiting until next pull...\n",
      "(400, 6)\n",
      "373\n",
      "waiting until next pull...\n",
      "(500, 6)\n",
      "467\n",
      "waiting until next pull...\n",
      "(600, 6)\n",
      "560\n",
      "waiting until next pull...\n",
      "(700, 6)\n",
      "657\n",
      "waiting until next pull...\n",
      "(800, 6)\n",
      "754\n",
      "waiting until next pull...\n",
      "(900, 6)\n",
      "848\n",
      "waiting until next pull...\n"
     ]
    }
   ],
   "source": [
    "pushshift_query(full_df_path='./data/amitheasshole_posts.csv', subreddit = 'AmItheAsshole', s_type = 'submission', iters = 10)"
   ]
  },
  {
   "cell_type": "code",
   "execution_count": 23,
   "id": "6d419805-f7f9-4a3d-804a-e6baf8077696",
   "metadata": {},
   "outputs": [
    {
     "name": "stdout",
     "output_type": "stream",
     "text": [
      "(1000, 6)\n",
      "944\n",
      "waiting until next pull...\n",
      "(1100, 6)\n",
      "1040\n",
      "waiting until next pull...\n",
      "(1200, 6)\n",
      "1137\n",
      "waiting until next pull...\n",
      "(1300, 6)\n",
      "1233\n",
      "waiting until next pull...\n",
      "(1400, 6)\n",
      "1323\n",
      "waiting until next pull...\n",
      "(1500, 6)\n",
      "1417\n",
      "waiting until next pull...\n",
      "(1600, 6)\n",
      "1509\n",
      "waiting until next pull...\n",
      "(1700, 6)\n",
      "1602\n",
      "waiting until next pull...\n",
      "(1800, 6)\n",
      "1695\n",
      "waiting until next pull...\n",
      "(1900, 6)\n",
      "1787\n",
      "waiting until next pull...\n"
     ]
    }
   ],
   "source": [
    "pushshift_query(full_df_path='./data/amitheasshole_posts.csv', subreddit = 'AmItheAsshole', s_type = 'submission', iters = 10)"
   ]
  },
  {
   "cell_type": "code",
   "execution_count": 24,
   "id": "97c9a313-1766-4990-8348-761c0d3358c2",
   "metadata": {},
   "outputs": [
    {
     "name": "stdout",
     "output_type": "stream",
     "text": [
      "(2000, 6)\n",
      "1883\n",
      "waiting until next pull...\n",
      "(2100, 6)\n",
      "1976\n",
      "waiting until next pull...\n",
      "(2200, 6)\n",
      "2068\n",
      "waiting until next pull...\n"
     ]
    }
   ],
   "source": [
    "pushshift_query(full_df_path='./data/amitheasshole_posts.csv', subreddit = 'AmItheAsshole', s_type = 'submission', iters = 3)"
   ]
  },
  {
   "cell_type": "code",
   "execution_count": 25,
   "id": "279cb3ae-3e18-4515-9eb0-405de6ed9065",
   "metadata": {},
   "outputs": [],
   "source": [
    "aita_posts = pd.read_csv('./data/amitheasshole_posts.csv')"
   ]
  },
  {
   "cell_type": "code",
   "execution_count": 27,
   "id": "c9198ef7-e8d5-45aa-b1ae-7658dccbddef",
   "metadata": {},
   "outputs": [
    {
     "data": {
      "text/plain": [
       "(2200, 6)"
      ]
     },
     "execution_count": 27,
     "metadata": {},
     "output_type": "execute_result"
    }
   ],
   "source": [
    "#Looking at the size of our posts for r/AmItheAsshole\n",
    "aita_posts.shape"
   ]
  },
  {
   "cell_type": "code",
   "execution_count": 28,
   "id": "96ed6c1a-663e-4e7c-8b14-cb7fe3b2b01a",
   "metadata": {},
   "outputs": [
    {
     "data": {
      "text/plain": [
       "(2100, 6)"
      ]
     },
     "execution_count": 28,
     "metadata": {},
     "output_type": "execute_result"
    }
   ],
   "source": [
    "#Looking at the size of our posts for r/offmychest\n",
    "omc_posts.shape"
   ]
  },
  {
   "cell_type": "code",
   "execution_count": 29,
   "id": "6ab3b547-a427-4300-8cc1-282aeb63c573",
   "metadata": {},
   "outputs": [],
   "source": [
    "sample = pd.concat([aita_posts, omc_posts])"
   ]
  },
  {
   "cell_type": "code",
   "execution_count": 30,
   "id": "33e68833-1635-4b98-87a4-cf421842cb36",
   "metadata": {},
   "outputs": [
    {
     "data": {
      "text/plain": [
       "(4300, 6)"
      ]
     },
     "execution_count": 30,
     "metadata": {},
     "output_type": "execute_result"
    }
   ],
   "source": [
    "sample.shape"
   ]
  },
  {
   "cell_type": "code",
   "execution_count": 31,
   "id": "709de369-01fe-4c59-9bfe-72b2cd2c843c",
   "metadata": {},
   "outputs": [],
   "source": [
    "#Combing our posts and saving as a csv to be exported for data cleaning\n",
    "pd.concat([aita_posts, omc_posts]).to_csv('./data/combined_dirty.csv')"
   ]
  },
  {
   "cell_type": "code",
   "execution_count": null,
   "id": "ed49eb31-84f5-48c1-88a4-ff8f54000bd9",
   "metadata": {},
   "outputs": [],
   "source": []
  }
 ],
 "metadata": {
  "kernelspec": {
   "display_name": "Python 3",
   "language": "python",
   "name": "python3"
  },
  "language_info": {
   "codemirror_mode": {
    "name": "ipython",
    "version": 3
   },
   "file_extension": ".py",
   "mimetype": "text/x-python",
   "name": "python",
   "nbconvert_exporter": "python",
   "pygments_lexer": "ipython3",
   "version": "3.8.8"
  }
 },
 "nbformat": 4,
 "nbformat_minor": 5
}
