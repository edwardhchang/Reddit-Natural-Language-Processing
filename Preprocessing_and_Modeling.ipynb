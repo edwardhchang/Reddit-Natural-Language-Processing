{
 "cells": [
  {
   "cell_type": "markdown",
   "id": "c5704a0b-fa78-4632-9e5b-538037b71763",
   "metadata": {},
   "source": [
    "## Imports"
   ]
  },
  {
   "cell_type": "code",
   "execution_count": 1,
   "id": "65538840-694c-456e-b0d5-de1cba172dbb",
   "metadata": {},
   "outputs": [],
   "source": [
    "import pandas as pd\n",
    "import numpy as np\n",
    "import matplotlib.pyplot as plt\n",
    "import seaborn as sns\n",
    "import nltk\n",
    "import re\n",
    "import time\n",
    "from IPython.display import display_html\n",
    "from IPython.core.display import display, HTML\n",
    "\n",
    "from sklearn.model_selection import GridSearchCV, train_test_split, cross_val_score\n",
    "from sklearn.linear_model import LogisticRegression\n",
    "from sklearn.pipeline import Pipeline\n",
    "from sklearn.metrics import confusion_matrix, ConfusionMatrixDisplay, accuracy_score, recall_score, classification_report\n",
    "from sklearn.feature_extraction.text import CountVectorizer, TfidfVectorizer\n",
    "from sklearn.ensemble import RandomForestClassifier\n",
    "from sklearn.svm import SVC\n",
    "\n",
    "\n",
    "from nltk.corpus import stopwords\n",
    "from nltk.stem import WordNetLemmatizer\n",
    "from nltk.tokenize import RegexpTokenizer \n",
    "\n",
    "\n",
    "import warnings\n",
    "warnings.filterwarnings(\"ignore\")"
   ]
  },
  {
   "cell_type": "markdown",
   "id": "abac263a-4431-410c-88b1-30f6d2f4b2db",
   "metadata": {},
   "source": [
    "### Reading the Data and Review"
   ]
  },
  {
   "cell_type": "code",
   "execution_count": 2,
   "id": "5f8bca1c-9f4c-44ca-aa68-998519ddee7d",
   "metadata": {},
   "outputs": [],
   "source": [
    "#Reading in our cleaned data set\n",
    "model_df = pd.read_csv('./data/clean_data.csv')"
   ]
  },
  {
   "cell_type": "code",
   "execution_count": 3,
   "id": "fa005527-6b48-4ae3-84c5-f6b4ce7d767d",
   "metadata": {},
   "outputs": [
    {
     "data": {
      "text/html": [
       "<div>\n",
       "<style scoped>\n",
       "    .dataframe tbody tr th:only-of-type {\n",
       "        vertical-align: middle;\n",
       "    }\n",
       "\n",
       "    .dataframe tbody tr th {\n",
       "        vertical-align: top;\n",
       "    }\n",
       "\n",
       "    .dataframe thead th {\n",
       "        text-align: right;\n",
       "    }\n",
       "</style>\n",
       "<table border=\"1\" class=\"dataframe\">\n",
       "  <thead>\n",
       "    <tr style=\"text-align: right;\">\n",
       "      <th></th>\n",
       "      <th>subreddit</th>\n",
       "      <th>text</th>\n",
       "    </tr>\n",
       "  </thead>\n",
       "  <tbody>\n",
       "    <tr>\n",
       "      <th>0</th>\n",
       "      <td>0</td>\n",
       "      <td>AITA for wanting money to fix my book So my li...</td>\n",
       "    </tr>\n",
       "    <tr>\n",
       "      <th>1</th>\n",
       "      <td>0</td>\n",
       "      <td>AITA  Uninviting my Maid of Honor to my Weddin...</td>\n",
       "    </tr>\n",
       "    <tr>\n",
       "      <th>2</th>\n",
       "      <td>0</td>\n",
       "      <td>AITA for not telling my partner about my famil...</td>\n",
       "    </tr>\n",
       "    <tr>\n",
       "      <th>3</th>\n",
       "      <td>0</td>\n",
       "      <td>AITA for leaving the group chat So excuse my b...</td>\n",
       "    </tr>\n",
       "    <tr>\n",
       "      <th>4</th>\n",
       "      <td>0</td>\n",
       "      <td>WIBTA if I didnt want my gf to come to a conce...</td>\n",
       "    </tr>\n",
       "  </tbody>\n",
       "</table>\n",
       "</div>"
      ],
      "text/plain": [
       "   subreddit                                               text\n",
       "0          0  AITA for wanting money to fix my book So my li...\n",
       "1          0  AITA  Uninviting my Maid of Honor to my Weddin...\n",
       "2          0  AITA for not telling my partner about my famil...\n",
       "3          0  AITA for leaving the group chat So excuse my b...\n",
       "4          0  WIBTA if I didnt want my gf to come to a conce..."
      ]
     },
     "execution_count": 3,
     "metadata": {},
     "output_type": "execute_result"
    }
   ],
   "source": [
    "model_df.head()"
   ]
  },
  {
   "cell_type": "code",
   "execution_count": 4,
   "id": "56277a71-4e77-43a4-9fdf-ccdf0154258b",
   "metadata": {},
   "outputs": [
    {
     "data": {
      "text/plain": [
       "(2672, 2)"
      ]
     },
     "execution_count": 4,
     "metadata": {},
     "output_type": "execute_result"
    }
   ],
   "source": [
    "#Checking the number of observations, 2672\n",
    "model_df.shape"
   ]
  },
  {
   "cell_type": "code",
   "execution_count": 5,
   "id": "654625ea-5364-46c9-8268-70073a6f6e7a",
   "metadata": {},
   "outputs": [
    {
     "data": {
      "text/plain": [
       "subreddit    0\n",
       "text         0\n",
       "dtype: int64"
      ]
     },
     "execution_count": 5,
     "metadata": {},
     "output_type": "execute_result"
    }
   ],
   "source": [
    "#Checkign null values\n",
    "model_df.isnull().sum()"
   ]
  },
  {
   "cell_type": "code",
   "execution_count": 6,
   "id": "5da73734-6219-49dc-a9b5-5852514c445d",
   "metadata": {},
   "outputs": [
    {
     "name": "stdout",
     "output_type": "stream",
     "text": [
      "<class 'pandas.core.frame.DataFrame'>\n",
      "RangeIndex: 2672 entries, 0 to 2671\n",
      "Data columns (total 2 columns):\n",
      " #   Column     Non-Null Count  Dtype \n",
      "---  ------     --------------  ----- \n",
      " 0   subreddit  2672 non-null   int64 \n",
      " 1   text       2672 non-null   object\n",
      "dtypes: int64(1), object(1)\n",
      "memory usage: 41.9+ KB\n"
     ]
    }
   ],
   "source": [
    "#Another way to show null values and column data types\n",
    "model_df.info()"
   ]
  },
  {
   "cell_type": "code",
   "execution_count": 7,
   "id": "59cf913a-755b-4932-99c2-fb4060d77095",
   "metadata": {},
   "outputs": [],
   "source": [
    "\n",
    "lemmatizer = WordNetLemmatizer()\n",
    "tokenizer = RegexpTokenizer(r'\\w+')\n",
    "\n",
    "def preprocess(sentence):\n",
    "    sentence=str(sentence)\n",
    "    sentence = sentence.lower()\n",
    "    sentence=sentence.replace('{html}',\"\") \n",
    "    cleanr = re.compile('<.*?>')\n",
    "    cleantext = re.sub(cleanr, '', sentence)\n",
    "    rem_url=re.sub(r'http\\S+', '',cleantext)\n",
    "    rem_num = re.sub('[0-9]+', '', rem_url)\n",
    "    tokens = tokenizer.tokenize(rem_num)  \n",
    "    filtered_words = [w for w in tokens if w not in stopwords.words('english')]\n",
    "    lemma_words=[lemmatizer.lemmatize(w) for w in filtered_words]\n",
    "    return \" \".join(lemma_words)"
   ]
  },
  {
   "cell_type": "code",
   "execution_count": 8,
   "id": "0ccd6602-2271-4bfc-96b5-62198bc1416c",
   "metadata": {},
   "outputs": [],
   "source": [
    "model_df['clean_text'] = model_df['text'].map(lambda s:preprocess(s))"
   ]
  },
  {
   "cell_type": "code",
   "execution_count": 9,
   "id": "ae75bbc1-0040-4756-837b-27a90a3aa660",
   "metadata": {},
   "outputs": [
    {
     "data": {
      "text/plain": [
       "'aita forgiving friend month falling mario kart hi allsix month ago h grad friend drinking celebrating got high okay however anxiety dont like largeunfamiliar group however felt safe comfortable close friendslater playing mario kart getting winning bit making bold claim status winner thought knew bragging good faith meant offense calling suckas bantering one friend joel wasnt hot racetrack joel suddenly tuned yelled quite loud saying brag initially smiled competitive fun turned darker started saying awful thing told didnt like saying always frustrating annoying h didnt know completely blindsided sat silent expressed true feeling plus drunkhigh really horrible calling asshole sat stared forward thing two friend didnt step got quite worried maybe wrong didnt respond excused slepta day later one friend bestfriend said joel completely wrong expected apology joel never reached shocked whole thing happened mario kart hear half larger friend group originally including one friend present night thought side assumed joel told happened regardless exaggerated didnt expect side even make side begin thought mature didnt realize taken far cut permanentlyi secured new friend became roommate bestfriend night stayed side said joel ridiculously line processed joel become running joke new group tbh ranted lot thought fair especially would never know way copyingrecently original started speaking playing golf friend one acknowledged happened guess little friend group reforming friend trying get u gel still incredibly angry feel betrayed everyone continues joke friendly fact six month worry blown situation proportion mind mario kart alli guess asking aita holding insanely long grudge mario kart even never got resolution hurt'"
      ]
     },
     "execution_count": 9,
     "metadata": {},
     "output_type": "execute_result"
    }
   ],
   "source": [
    "model_df['clean_text'][8]"
   ]
  },
  {
   "cell_type": "markdown",
   "id": "c59cbaa1-4c33-41f3-bae3-2513997e9a08",
   "metadata": {},
   "source": [
    "#### Preliminary Text Visualizations"
   ]
  },
  {
   "cell_type": "markdown",
   "id": "71289064-c87c-4bd6-b555-4bd26cda08fd",
   "metadata": {},
   "source": [
    "##### Subreddit Distribution"
   ]
  },
  {
   "cell_type": "markdown",
   "id": "6326cc78-e865-4e45-b9f7-405b881de1a5",
   "metadata": {},
   "source": [
    "Although we already know that our subreddits are split evenly from our data cleaning, let us create a visualization of the split as well as get a rough estimate of the number of posts in each."
   ]
  },
  {
   "cell_type": "code",
   "execution_count": 10,
   "id": "162f0c73-e749-40b0-9d8a-9f8d5a4927be",
   "metadata": {},
   "outputs": [
    {
     "data": {
      "image/png": "[encoded data removed]",
      "text/plain": [
       "<Figure size 720x504 with 1 Axes>"
      ]
     },
     "metadata": {
      "needs_background": "light"
     },
     "output_type": "display_data"
    }
   ],
   "source": [
    "\n",
    "plt.figure(figsize = (10, 7))\n",
    "sns.countplot(model_df['subreddit'])\n",
    "plt.title('Distribution of Submissions by Subreddit', size = 20)\n",
    "plt.xlabel('Subreddit', size = 16)\n",
    "plt.ylabel('Number of Submissions', size = 16)\n",
    "\n",
    "plt.xticks([0,1], labels = ['r/AmItheAsshole', 'r/offmychest'], size = 9)\n",
    "plt.yticks(size = 9);\n"
   ]
  },
  {
   "cell_type": "markdown",
   "id": "fdb764a3-2ea5-4944-9539-0f6511a13575",
   "metadata": {},
   "source": [
    "##### Text Lengths"
   ]
  },
  {
   "cell_type": "code",
   "execution_count": 11,
   "id": "11fb8bde-2c7f-4664-aa48-2ea7293fe34f",
   "metadata": {},
   "outputs": [],
   "source": [
    "#List of all post lengths (title + selftext)\n",
    "text_len = [len(text) for text in model_df[\"clean_text\"]]"
   ]
  },
  {
   "cell_type": "code",
   "execution_count": 12,
   "id": "3a449b41-847f-404a-9897-20ab1c57952d",
   "metadata": {},
   "outputs": [
    {
     "name": "stdout",
     "output_type": "stream",
     "text": [
      "929.0864520958083\n"
     ]
    }
   ],
   "source": [
    "#Mean length of text, in words including posts\n",
    "print(np.mean(text_len))"
   ]
  },
  {
   "cell_type": "code",
   "execution_count": 13,
   "id": "8b355d41-db74-4e15-8c53-1125218a43bb",
   "metadata": {},
   "outputs": [
    {
     "data": {
      "image/png": "[encoded data removed]",
      "text/plain": [
       "<Figure size 576x432 with 1 Axes>"
      ]
     },
     "metadata": {},
     "output_type": "display_data"
    }
   ],
   "source": [
    "#Plotting \n",
    "plt.figure(figsize = (8,6), facecolor = 'white', edgecolor = 'black')\n",
    "sns.distplot(text_len, kde = False, color = 'red', bins = 40)\n",
    "plt.axvline(np.mean(text_len), color = 'darkblue')\n",
    "plt.xlabel('Text Length', size = 18)\n",
    "plt.ylabel('Frequency', size = 18)\n",
    "plt.title('Distribution of Text Lengths', size = 20)\n",
    "plt.savefig('./images/text_dists.png')\n",
    "\n",
    "plt.show;\n",
    "\n",
    "#The blue line signifies the mean, which is 929.08 words (which includes the title)\n"
   ]
  },
  {
   "cell_type": "markdown",
   "id": "ad971874-f5ef-4181-865f-66282dd26959",
   "metadata": {},
   "source": [
    "We can see that the majority of posts are less than 2500 words even including the title text. There are a few outliers with >7500 words that we can see with a bin size of 40 which we may check back to if there are issues with our model. These could very well be large spam posts or people really are getting a lot off their chest in their posts."
   ]
  },
  {
   "cell_type": "markdown",
   "id": "18294f1a-06e3-4287-9598-151685c56afa",
   "metadata": {},
   "source": [
    "### Stop Words, Vectorization"
   ]
  },
  {
   "cell_type": "markdown",
   "id": "e2a35ccf-eadf-4211-a441-1471faeb7f0d",
   "metadata": {},
   "source": [
    "We want to first use the count vectorizer to convert our text into a structured dataframe. With this we can look at our most common words for each subreddit and possibly find some insights into our subreddits themselves."
   ]
  },
  {
   "cell_type": "code",
   "execution_count": 14,
   "id": "41bc8a66-f5c4-4a46-8b48-cb72aacb4f1d",
   "metadata": {},
   "outputs": [],
   "source": [
    "\n",
    "#Instantiating the count vectorizer\n",
    "cvec = CountVectorizer(stop_words = 'english')\n",
    "\n",
    "#Creating two so we can fit_transform each one to export for separate lists of word vectors\n",
    "cvec_1 = CountVectorizer(stop_words = 'english')\n",
    "cvec_2 = CountVectorizer(stop_words = 'english')"
   ]
  },
  {
   "cell_type": "code",
   "execution_count": 15,
   "id": "c36cef5c-aa38-4f1e-a538-db600f7b7ced",
   "metadata": {},
   "outputs": [],
   "source": [
    "#We will vectorize the individual subreddits for our count of most common words\n",
    "aita = model_df[model_df['subreddit'] == 0]\n",
    "omc = model_df[model_df['subreddit'] == 1]"
   ]
  },
  {
   "cell_type": "code",
   "execution_count": 16,
   "id": "39ca94e4-37cd-4dd0-80c7-3cfd17aecdeb",
   "metadata": {},
   "outputs": [],
   "source": [
    "#Fit transforming two different vectorizers\n",
    "cvec_aita = cvec_1.fit_transform(aita['clean_text'])\n",
    "cvec_omc = cvec_2.fit_transform(omc['clean_text'])"
   ]
  },
  {
   "cell_type": "code",
   "execution_count": 17,
   "id": "fdcfcbd6-55ee-4a9a-9121-62c4f7f33369",
   "metadata": {},
   "outputs": [],
   "source": [
    "aita_vectors = pd.DataFrame(cvec_aita.toarray(),\n",
    "                            columns = cvec_1.get_feature_names())\n",
    "\n",
    "omc_vectors = pd.DataFrame(cvec_omc.toarray(),\n",
    "                           columns = cvec_2.get_feature_names())"
   ]
  },
  {
   "cell_type": "code",
   "execution_count": 18,
   "id": "1b10ede9-f018-4c53-b659-b20aac6fc427",
   "metadata": {},
   "outputs": [
    {
     "name": "stdout",
     "output_type": "stream",
     "text": [
      "im        2010\n",
      "friend    1888\n",
      "like      1788\n",
      "said      1732\n",
      "told      1708\n",
      "aita      1638\n",
      "time      1574\n",
      "dont      1434\n",
      "didnt     1327\n",
      "want      1295\n",
      "year      1167\n",
      "know      1157\n",
      "got       1061\n",
      "mom       1047\n",
      "thing     1034\n",
      "day        984\n",
      "really     970\n",
      "feel       940\n",
      "family     890\n",
      "going      859\n",
      "dtype: int64\n"
     ]
    }
   ],
   "source": [
    "top_aita_words = aita_vectors.sum().sort_values(ascending = False).head(20)\n",
    "print(top_aita_words)"
   ]
  },
  {
   "cell_type": "code",
   "execution_count": 19,
   "id": "1b4f098c-797b-4ffb-8800-f0aab4a1d6c6",
   "metadata": {},
   "outputs": [
    {
     "name": "stdout",
     "output_type": "stream",
     "text": [
      "im        3020\n",
      "like      2190\n",
      "dont      1879\n",
      "feel      1599\n",
      "know      1507\n",
      "time      1410\n",
      "want      1252\n",
      "friend    1207\n",
      "people    1140\n",
      "year      1123\n",
      "life      1103\n",
      "thing     1020\n",
      "ive       1016\n",
      "really    1005\n",
      "day        852\n",
      "make       764\n",
      "think      755\n",
      "didnt      737\n",
      "got        637\n",
      "going      619\n",
      "dtype: int64\n"
     ]
    }
   ],
   "source": [
    "top_omc_words = omc_vectors.sum().sort_values(ascending = False).head(20)\n",
    "print(top_omc_words)"
   ]
  },
  {
   "cell_type": "markdown",
   "id": "abf8590b-0ca3-428d-8758-3e39768007a3",
   "metadata": {},
   "source": [
    "Just from a quick glance, we see that there are a few common words such as 'dont', 'im' or 'like'. To interpret this, it makes sense that in subreddits where people are talking about their personal lives and anecdotes, that we will see these phrases. We may want to include these in our stopwords as they may reduce the effectiveness of our model due to the frequency and commonality we see between r/AmItheAsshole and r/offmychest. This also brings into question whether we would do the same for 'AITA' which we see in the list of r/AmItheAsshole common words. Words like 'AITA' or 'asshole' will probably be frequently seen which will benefit our model in differentiating between the two."
   ]
  },
  {
   "cell_type": "code",
   "execution_count": 20,
   "id": "41f7a9c6-98f2-4211-8efc-65f01f7efc09",
   "metadata": {},
   "outputs": [
    {
     "name": "stdout",
     "output_type": "stream",
     "text": [
      "['day' 'didnt' 'dont' 'feel' 'friend' 'going' 'got' 'im' 'know' 'like'\n",
      " 'really' 'thing' 'time' 'want' 'year']\n",
      "The number of shared words in top 20 most frequent words for each subreddit is: 15\n"
     ]
    }
   ],
   "source": [
    "#Creating an array of all the shared words using np.intersect1d\n",
    "shared_words = np.intersect1d(top_aita_words.index, top_omc_words.index) #https://numpy.org/doc/stable/reference/generated/numpy.intersect1d.html | https://stackoverflow.com/questions/48539195/list-of-columns-in-common-in-two-pandas-dataframes\n",
    "print(shared_words)\n",
    "print(f'The number of shared words in top 20 most frequent words for each subreddit is: {len(shared_words)}')"
   ]
  },
  {
   "cell_type": "code",
   "execution_count": 21,
   "id": "3b7d567e-74d7-4a53-8b30-ebb0b6c4cf9b",
   "metadata": {},
   "outputs": [],
   "source": [
    "#Adding our shared words to our stopwords\n",
    "stopwords = stopwords.words('english')\n",
    "\n",
    "stopwords.extend(shared_words)"
   ]
  },
  {
   "cell_type": "code",
   "execution_count": 22,
   "id": "3cd764be-8a5a-4d66-852a-c3ff9d4d2dd8",
   "metadata": {},
   "outputs": [],
   "source": [
    "#Adding in our AITA terms that denote the subreddit\n",
    "aita_terms = ['aita', 'wibta', 'asshole']\n"
   ]
  },
  {
   "cell_type": "code",
   "execution_count": 23,
   "id": "4cdae62b-76cc-47af-8463-c2f48b981abc",
   "metadata": {},
   "outputs": [],
   "source": [
    "stopwords.extend(aita_terms)"
   ]
  },
  {
   "cell_type": "code",
   "execution_count": 24,
   "id": "34e42c79-1812-4d21-ab10-176b68f53fce",
   "metadata": {},
   "outputs": [
    {
     "data": {
      "text/plain": [
       "['i',\n",
       " 'me',\n",
       " 'my',\n",
       " 'myself',\n",
       " 'we',\n",
       " 'our',\n",
       " 'ours',\n",
       " 'ourselves',\n",
       " 'you',\n",
       " \"you're\",\n",
       " \"you've\",\n",
       " \"you'll\",\n",
       " \"you'd\",\n",
       " 'your',\n",
       " 'yours',\n",
       " 'yourself',\n",
       " 'yourselves',\n",
       " 'he',\n",
       " 'him',\n",
       " 'his',\n",
       " 'himself',\n",
       " 'she',\n",
       " \"she's\",\n",
       " 'her',\n",
       " 'hers',\n",
       " 'herself',\n",
       " 'it',\n",
       " \"it's\",\n",
       " 'its',\n",
       " 'itself',\n",
       " 'they',\n",
       " 'them',\n",
       " 'their',\n",
       " 'theirs',\n",
       " 'themselves',\n",
       " 'what',\n",
       " 'which',\n",
       " 'who',\n",
       " 'whom',\n",
       " 'this',\n",
       " 'that',\n",
       " \"that'll\",\n",
       " 'these',\n",
       " 'those',\n",
       " 'am',\n",
       " 'is',\n",
       " 'are',\n",
       " 'was',\n",
       " 'were',\n",
       " 'be',\n",
       " 'been',\n",
       " 'being',\n",
       " 'have',\n",
       " 'has',\n",
       " 'had',\n",
       " 'having',\n",
       " 'do',\n",
       " 'does',\n",
       " 'did',\n",
       " 'doing',\n",
       " 'a',\n",
       " 'an',\n",
       " 'the',\n",
       " 'and',\n",
       " 'but',\n",
       " 'if',\n",
       " 'or',\n",
       " 'because',\n",
       " 'as',\n",
       " 'until',\n",
       " 'while',\n",
       " 'of',\n",
       " 'at',\n",
       " 'by',\n",
       " 'for',\n",
       " 'with',\n",
       " 'about',\n",
       " 'against',\n",
       " 'between',\n",
       " 'into',\n",
       " 'through',\n",
       " 'during',\n",
       " 'before',\n",
       " 'after',\n",
       " 'above',\n",
       " 'below',\n",
       " 'to',\n",
       " 'from',\n",
       " 'up',\n",
       " 'down',\n",
       " 'in',\n",
       " 'out',\n",
       " 'on',\n",
       " 'off',\n",
       " 'over',\n",
       " 'under',\n",
       " 'again',\n",
       " 'further',\n",
       " 'then',\n",
       " 'once',\n",
       " 'here',\n",
       " 'there',\n",
       " 'when',\n",
       " 'where',\n",
       " 'why',\n",
       " 'how',\n",
       " 'all',\n",
       " 'any',\n",
       " 'both',\n",
       " 'each',\n",
       " 'few',\n",
       " 'more',\n",
       " 'most',\n",
       " 'other',\n",
       " 'some',\n",
       " 'such',\n",
       " 'no',\n",
       " 'nor',\n",
       " 'not',\n",
       " 'only',\n",
       " 'own',\n",
       " 'same',\n",
       " 'so',\n",
       " 'than',\n",
       " 'too',\n",
       " 'very',\n",
       " 's',\n",
       " 't',\n",
       " 'can',\n",
       " 'will',\n",
       " 'just',\n",
       " 'don',\n",
       " \"don't\",\n",
       " 'should',\n",
       " \"should've\",\n",
       " 'now',\n",
       " 'd',\n",
       " 'll',\n",
       " 'm',\n",
       " 'o',\n",
       " 're',\n",
       " 've',\n",
       " 'y',\n",
       " 'ain',\n",
       " 'aren',\n",
       " \"aren't\",\n",
       " 'couldn',\n",
       " \"couldn't\",\n",
       " 'didn',\n",
       " \"didn't\",\n",
       " 'doesn',\n",
       " \"doesn't\",\n",
       " 'hadn',\n",
       " \"hadn't\",\n",
       " 'hasn',\n",
       " \"hasn't\",\n",
       " 'haven',\n",
       " \"haven't\",\n",
       " 'isn',\n",
       " \"isn't\",\n",
       " 'ma',\n",
       " 'mightn',\n",
       " \"mightn't\",\n",
       " 'mustn',\n",
       " \"mustn't\",\n",
       " 'needn',\n",
       " \"needn't\",\n",
       " 'shan',\n",
       " \"shan't\",\n",
       " 'shouldn',\n",
       " \"shouldn't\",\n",
       " 'wasn',\n",
       " \"wasn't\",\n",
       " 'weren',\n",
       " \"weren't\",\n",
       " 'won',\n",
       " \"won't\",\n",
       " 'wouldn',\n",
       " \"wouldn't\",\n",
       " 'day',\n",
       " 'didnt',\n",
       " 'dont',\n",
       " 'feel',\n",
       " 'friend',\n",
       " 'going',\n",
       " 'got',\n",
       " 'im',\n",
       " 'know',\n",
       " 'like',\n",
       " 'really',\n",
       " 'thing',\n",
       " 'time',\n",
       " 'want',\n",
       " 'year',\n",
       " 'aita',\n",
       " 'wibta',\n",
       " 'asshole']"
      ]
     },
     "execution_count": 24,
     "metadata": {},
     "output_type": "execute_result"
    }
   ],
   "source": [
    "stopwords"
   ]
  },
  {
   "cell_type": "markdown",
   "id": "009d918d-010f-4bba-905b-03792f2e5b24",
   "metadata": {},
   "source": [
    "## Modeling"
   ]
  },
  {
   "cell_type": "markdown",
   "id": "fc67872e-3b73-4a2f-b115-ecf834c8e2bf",
   "metadata": {},
   "source": [
    "Setting Up Our Data"
   ]
  },
  {
   "cell_type": "code",
   "execution_count": 28,
   "id": "7df5b82c-6525-4d55-994d-fe1270b0808c",
   "metadata": {},
   "outputs": [],
   "source": [
    "X = model_df['clean_text']\n",
    "y = model_df['subreddit']"
   ]
  },
  {
   "cell_type": "markdown",
   "id": "5ece0ca1-9baf-46e1-a93e-e6fa9920502c",
   "metadata": {},
   "source": [
    "##### Train-Test Split"
   ]
  },
  {
   "cell_type": "code",
   "execution_count": 29,
   "id": "ffda78cf-1f88-4f08-9d45-b73e8d047a8e",
   "metadata": {},
   "outputs": [],
   "source": [
    "#Setting up random state as 42\n",
    "X_train, X_test, y_train, y_test = train_test_split(X, \n",
    "                                                    y, \n",
    "                                                    random_state = 42,\n",
    "                                                    stratify = y)"
   ]
  },
  {
   "cell_type": "code",
   "execution_count": 30,
   "id": "9659f73b-45de-464b-a13b-6003cf88ff8e",
   "metadata": {},
   "outputs": [],
   "source": [
    "#We will create a function to help return evaluation metrics of our models source: https://buhrmann.github.io/tfidf-analysis.html\n",
    "def class_report(confusion_matrix):\n",
    "    tp, fp, fn, tn = confusion_matrix.flatten()\n",
    "    measures = {}\n",
    "    measures['accuracy'] = (tp + tn) / (tp + fp + fn + tn)\n",
    "    measures['specificity'] = tn / (tn + fp)        # (true negative rate)\n",
    "    measures['sensitivity'] = tp / (tp + fn)        # (recall, true positive rate)\n",
    "    measures['precision'] = tp / (tp + fp)\n",
    "    measures['f1score'] = 2*tp / (2*tp + fp + fn)\n",
    "    return measures\n"
   ]
  },
  {
   "cell_type": "markdown",
   "id": "bfd52bad-51be-4490-af8c-6923a155b9f3",
   "metadata": {},
   "source": [
    "### Logistic Regression"
   ]
  },
  {
   "cell_type": "markdown",
   "id": "e70f580f-f7b0-4d1c-bdd3-bfa90a8d2955",
   "metadata": {},
   "source": [
    "We explored what our baseline model would be in our EDA, which is a 50/50 split in terms of classification for the subreddits. We will start with a simple logistic regression with gridsearch."
   ]
  },
  {
   "cell_type": "code",
   "execution_count": 31,
   "id": "49a43eee-9553-4f6d-9746-daa41a184629",
   "metadata": {},
   "outputs": [],
   "source": [
    "#Instantiating pipeline\n",
    "lr_cvec_pipe = Pipeline([\n",
    "    ('cvec', CountVectorizer()),\n",
    "    ('log_reg', LogisticRegression())\n",
    "])\n",
    "\n",
    "#Setting params for the Count Vectorizer\n",
    "lr_cvec_params = {\n",
    "    'cvec__max_features' : [10, 25, 200,500,1000,2000],\n",
    "    'cvec__ngram_range'  : [(1,1), (1,2), (1,3), (1,4)],\n",
    "    'cvec__min_df'       : [0.02, 0.05],\n",
    "    'cvec__max_df'       : [0.9, 0.95],\n",
    "    'cvec__stop_words'   : [stopwords]\n",
    "}\n",
    "\n",
    "lr_cvec_gs = GridSearchCV(estimator = lr_cvec_pipe,\n",
    "                          param_grid = lr_cvec_params,\n",
    "                          cv = 5,\n",
    "                          n_jobs = -1,\n",
    "                          verbose = 1)"
   ]
  },
  {
   "cell_type": "code",
   "execution_count": 32,
   "id": "c6a6cda2-5761-46a9-a96b-bc4b1a0d598d",
   "metadata": {},
   "outputs": [
    {
     "name": "stdout",
     "output_type": "stream",
     "text": [
      "Fitting 5 folds for each of 96 candidates, totalling 480 fits\n"
     ]
    },
    {
     "data": {
      "text/plain": [
       "GridSearchCV(cv=5,\n",
       "             estimator=Pipeline(steps=[('cvec', CountVectorizer()),\n",
       "                                       ('log_reg', LogisticRegression())]),\n",
       "             n_jobs=-1,\n",
       "             param_grid={'cvec__max_df': [0.9, 0.95],\n",
       "                         'cvec__max_features': [10, 25, 200, 500, 1000, 2000],\n",
       "                         'cvec__min_df': [0.02, 0.05],\n",
       "                         'cvec__ngram_range': [(1, 1), (1, 2), (1, 3), (1, 4)],\n",
       "                         'cvec__stop_words': [['i', 'me', 'my', 'myself', 'we',\n",
       "                                               'our', 'ours', 'ourselves',\n",
       "                                               'you', \"you're\", \"you've\",\n",
       "                                               \"you'll\", \"you'd\", 'your',\n",
       "                                               'yours', 'yourself',\n",
       "                                               'yourselves', 'he', 'him', 'his',\n",
       "                                               'himself', 'she', \"she's\", 'her',\n",
       "                                               'hers', 'herself', 'it', \"it's\",\n",
       "                                               'its', 'itself', ...]]},\n",
       "             verbose=1)"
      ]
     },
     "execution_count": 32,
     "metadata": {},
     "output_type": "execute_result"
    }
   ],
   "source": [
    "#Fitting our model onto training data\n",
    "lr_cvec_gs.fit(X_train, y_train)"
   ]
  },
  {
   "cell_type": "code",
   "execution_count": 33,
   "id": "d95c570e-1f06-436e-9284-7601da504605",
   "metadata": {},
   "outputs": [
    {
     "name": "stdout",
     "output_type": "stream",
     "text": [
      "The best score using our GridSearchCV on a Logistic Regression is: 0.8537955112219452\n"
     ]
    }
   ],
   "source": [
    "print(f'The best score using our GridSearchCV on a Logistic Regression is: {lr_cvec_gs.best_score_}')"
   ]
  },
  {
   "cell_type": "code",
   "execution_count": 34,
   "id": "5c09e376-8311-459e-a226-081999cc5517",
   "metadata": {},
   "outputs": [
    {
     "name": "stdout",
     "output_type": "stream",
     "text": [
      "{'cvec__max_df': 0.9, 'cvec__max_features': 1000, 'cvec__min_df': 0.02, 'cvec__ngram_range': (1, 2), 'cvec__stop_words': ['i', 'me', 'my', 'myself', 'we', 'our', 'ours', 'ourselves', 'you', \"you're\", \"you've\", \"you'll\", \"you'd\", 'your', 'yours', 'yourself', 'yourselves', 'he', 'him', 'his', 'himself', 'she', \"she's\", 'her', 'hers', 'herself', 'it', \"it's\", 'its', 'itself', 'they', 'them', 'their', 'theirs', 'themselves', 'what', 'which', 'who', 'whom', 'this', 'that', \"that'll\", 'these', 'those', 'am', 'is', 'are', 'was', 'were', 'be', 'been', 'being', 'have', 'has', 'had', 'having', 'do', 'does', 'did', 'doing', 'a', 'an', 'the', 'and', 'but', 'if', 'or', 'because', 'as', 'until', 'while', 'of', 'at', 'by', 'for', 'with', 'about', 'against', 'between', 'into', 'through', 'during', 'before', 'after', 'above', 'below', 'to', 'from', 'up', 'down', 'in', 'out', 'on', 'off', 'over', 'under', 'again', 'further', 'then', 'once', 'here', 'there', 'when', 'where', 'why', 'how', 'all', 'any', 'both', 'each', 'few', 'more', 'most', 'other', 'some', 'such', 'no', 'nor', 'not', 'only', 'own', 'same', 'so', 'than', 'too', 'very', 's', 't', 'can', 'will', 'just', 'don', \"don't\", 'should', \"should've\", 'now', 'd', 'll', 'm', 'o', 're', 've', 'y', 'ain', 'aren', \"aren't\", 'couldn', \"couldn't\", 'didn', \"didn't\", 'doesn', \"doesn't\", 'hadn', \"hadn't\", 'hasn', \"hasn't\", 'haven', \"haven't\", 'isn', \"isn't\", 'ma', 'mightn', \"mightn't\", 'mustn', \"mustn't\", 'needn', \"needn't\", 'shan', \"shan't\", 'shouldn', \"shouldn't\", 'wasn', \"wasn't\", 'weren', \"weren't\", 'won', \"won't\", 'wouldn', \"wouldn't\", 'day', 'didnt', 'dont', 'feel', 'friend', 'going', 'got', 'im', 'know', 'like', 'really', 'thing', 'time', 'want', 'year', 'aita', 'wibta', 'asshole']}\n"
     ]
    }
   ],
   "source": [
    "log_best_params = lr_cvec_gs.best_params_\n",
    "print(log_best_params)"
   ]
  },
  {
   "cell_type": "code",
   "execution_count": 35,
   "id": "3ba251a0-abb1-407c-bc50-04cfc23556a7",
   "metadata": {},
   "outputs": [
    {
     "name": "stdout",
     "output_type": "stream",
     "text": [
      "Our score for the training data is: 0.998003992015968\n"
     ]
    }
   ],
   "source": [
    "print(f'Our score for the training data is: {lr_cvec_gs.score(X_train, y_train)}')"
   ]
  },
  {
   "cell_type": "code",
   "execution_count": 36,
   "id": "fdc01a95-1c18-4df6-8207-621aa7b34693",
   "metadata": {},
   "outputs": [
    {
     "name": "stdout",
     "output_type": "stream",
     "text": [
      "Our score for the testing data is: 0.8547904191616766\n"
     ]
    }
   ],
   "source": [
    "print(f'Our score for the testing data is: {lr_cvec_gs.score(X_test, y_test)}')"
   ]
  },
  {
   "cell_type": "markdown",
   "id": "77a54740-a4a1-440e-bdf4-dfafb9ca90d1",
   "metadata": {},
   "source": [
    "Remarkably, our basic logistic regression model appears to be very strong with a training score near 100% and a testing score around 87.4%. Our model is very overfit by the looks of it and it may be due to the size of the dataset or the model is pucking up a lot of noise from the data. We will take a look at the confusion matrices below and calculate our accuracy score which we will use as our evaluation metric to compare to the baseline model. However, our model is slightly overfit which is a tendency of linear models. "
   ]
  },
  {
   "cell_type": "markdown",
   "id": "ef717482-93e1-4cd5-99e8-554e1b5948ce",
   "metadata": {},
   "source": [
    "##### Confusion Matrices and Accuracy Score"
   ]
  },
  {
   "cell_type": "code",
   "execution_count": 37,
   "id": "4a156aa5-69c1-4f85-8f5c-233d4cb18e88",
   "metadata": {},
   "outputs": [],
   "source": [
    "#Setting up our predicted y-values\n",
    "train_preds = lr_cvec_gs.predict(X_train)\n",
    "preds = lr_cvec_gs.predict(X_test)"
   ]
  },
  {
   "cell_type": "code",
   "execution_count": 38,
   "id": "3fddfc28-3bcb-458c-8b1b-5eb69f5eed4d",
   "metadata": {},
   "outputs": [
    {
     "name": "stdout",
     "output_type": "stream",
     "text": [
      "The accuracy score on our training data is: 0.998003992015968\n"
     ]
    },
    {
     "data": {
      "image/png": "[encoded data removed]",
      "text/plain": [
       "<Figure size 432x288 with 2 Axes>"
      ]
     },
     "metadata": {
      "needs_background": "light"
     },
     "output_type": "display_data"
    }
   ],
   "source": [
    "#Training Data Confusion matrix\n",
    "cm = confusion_matrix(y_train, train_preds)\n",
    "tn, fp, fn, tp = cm.ravel()\n",
    "ConfusionMatrixDisplay(cm).plot()\n",
    "\n",
    "plt.title('Confusion Matrix for Training Data', size = 15)\n",
    "plt.xlabel('Predicted Subreddit, 0 = r/AmItheAsshole')\n",
    "plt.ylabel('True Subreddit')\n",
    "\n",
    "lr_train_accuracy = accuracy_score(y_train, train_preds)\n",
    "print(f'The accuracy score on our training data is: {accuracy_score(y_train, train_preds)}')"
   ]
  },
  {
   "cell_type": "code",
   "execution_count": 39,
   "id": "dbef7ef2-c247-40b3-a366-42f46d84ae67",
   "metadata": {},
   "outputs": [
    {
     "data": {
      "text/plain": [
       "{'accuracy': 0.8547904191616766,\n",
       " 'specificity': 0.8414985590778098,\n",
       " 'sensitivity': 0.8691588785046729,\n",
       " 'precision': 0.8353293413173652,\n",
       " 'f1score': 0.8519083969465648}"
      ]
     },
     "execution_count": 39,
     "metadata": {},
     "output_type": "execute_result"
    },
    {
     "data": {
      "image/png": "[encoded data removed]",
      "text/plain": [
       "<Figure size 432x288 with 2 Axes>"
      ]
     },
     "metadata": {
      "needs_background": "light"
     },
     "output_type": "display_data"
    }
   ],
   "source": [
    "#Testing Data Confusion Matrix\n",
    "cm = confusion_matrix(y_test, preds)\n",
    "tn, fp, fn, tp = cm.ravel()\n",
    "ConfusionMatrixDisplay(cm).plot()\n",
    "\n",
    "\n",
    "plt.title('Confusion Matrix - Logistic Regression', size = 15)\n",
    "plt.xlabel('Predicted Subreddit, 0 = r/AmItheAsshole')\n",
    "plt.ylabel('True Subreddit')\n",
    "\n",
    "\n",
    "\n",
    "lr_test_accuracy = accuracy_score(y_test, preds)\n",
    "class_report(cm)\n",
    "\n"
   ]
  },
  {
   "cell_type": "markdown",
   "id": "3073be71-1967-4b03-9780-52bed3cd0115",
   "metadata": {},
   "source": [
    "### Support Vector Classifier (SVC)"
   ]
  },
  {
   "cell_type": "markdown",
   "id": "0f154700-5483-40f3-9a85-9cf106afd111",
   "metadata": {},
   "source": [
    "Here we will compare our logistic regression results to our support vector machine. We hope that our SVM will aid in the over-fitting due to the fact that it uses regularization. SVMs will linearly separate the data and we will explore if using a kernel will also help with reducing our overfitness."
   ]
  },
  {
   "cell_type": "code",
   "execution_count": 40,
   "id": "ca97be9e-e4f1-440f-bb78-f83784428d7d",
   "metadata": {},
   "outputs": [],
   "source": [
    "\n",
    "#Instantiating our SVC pipe\n",
    "svc_pipe = Pipeline([\n",
    "    ('cvec', CountVectorizer()),\n",
    "    ('svc', SVC())\n",
    "])\n",
    "\n",
    "#Params, setting up C and gamma as we'd expect the better model to include RBF\n",
    "svc_params = {\n",
    "    'cvec__max_features' : [350,700,1400],\n",
    "    'cvec__ngram_range'  : [(1,2)],\n",
    "    'cvec__stop_words'   : [stopwords],\n",
    "    'cvec__min_df'       : [0.02],\n",
    "    'cvec__max_df'       : [.9],\n",
    "    'svc__C'             : np.logspace(-5, 2, 10),\n",
    "    'svc__kernel'        : ['poly', 'rbf', 'linear'],\n",
    "    'svc__gamma'         : ['scale', 'auto']\n",
    "    }\n",
    "\n",
    "#Setting up our GridSearchCV with the SVC pipe and params\n",
    "svc_gs = GridSearchCV(estimator = svc_pipe,\n",
    "                      param_grid = svc_params,\n",
    "                      cv = 5,\n",
    "                      verbose = 1,\n",
    "                      n_jobs = -1)\n",
    "\n"
   ]
  },
  {
   "cell_type": "code",
   "execution_count": 41,
   "id": "d4e5eea5-46a4-4b72-ba42-c3c02c8bff2f",
   "metadata": {},
   "outputs": [
    {
     "name": "stdout",
     "output_type": "stream",
     "text": [
      "Fitting 5 folds for each of 180 candidates, totalling 900 fits\n",
      "Elapsed Time to Execute: 274.45216178894043\n"
     ]
    }
   ],
   "source": [
    "#Including time calculation to see how long it'll take to execute. \n",
    "start = time.time()\n",
    "\n",
    "svc_gs.fit(X_train, y_train)\n",
    "\n",
    "end = time.time()\n",
    "print(f'Elapsed Time to Execute: {end-start}')"
   ]
  },
  {
   "cell_type": "code",
   "execution_count": 42,
   "id": "7e5e3f35-d14e-4854-bc8d-48480f3c41ed",
   "metadata": {},
   "outputs": [
    {
     "name": "stdout",
     "output_type": "stream",
     "text": [
      "{'cvec__max_df': 0.9, 'cvec__max_features': 1400, 'cvec__min_df': 0.02, 'cvec__ngram_range': (1, 2), 'cvec__stop_words': ['i', 'me', 'my', 'myself', 'we', 'our', 'ours', 'ourselves', 'you', \"you're\", \"you've\", \"you'll\", \"you'd\", 'your', 'yours', 'yourself', 'yourselves', 'he', 'him', 'his', 'himself', 'she', \"she's\", 'her', 'hers', 'herself', 'it', \"it's\", 'its', 'itself', 'they', 'them', 'their', 'theirs', 'themselves', 'what', 'which', 'who', 'whom', 'this', 'that', \"that'll\", 'these', 'those', 'am', 'is', 'are', 'was', 'were', 'be', 'been', 'being', 'have', 'has', 'had', 'having', 'do', 'does', 'did', 'doing', 'a', 'an', 'the', 'and', 'but', 'if', 'or', 'because', 'as', 'until', 'while', 'of', 'at', 'by', 'for', 'with', 'about', 'against', 'between', 'into', 'through', 'during', 'before', 'after', 'above', 'below', 'to', 'from', 'up', 'down', 'in', 'out', 'on', 'off', 'over', 'under', 'again', 'further', 'then', 'once', 'here', 'there', 'when', 'where', 'why', 'how', 'all', 'any', 'both', 'each', 'few', 'more', 'most', 'other', 'some', 'such', 'no', 'nor', 'not', 'only', 'own', 'same', 'so', 'than', 'too', 'very', 's', 't', 'can', 'will', 'just', 'don', \"don't\", 'should', \"should've\", 'now', 'd', 'll', 'm', 'o', 're', 've', 'y', 'ain', 'aren', \"aren't\", 'couldn', \"couldn't\", 'didn', \"didn't\", 'doesn', \"doesn't\", 'hadn', \"hadn't\", 'hasn', \"hasn't\", 'haven', \"haven't\", 'isn', \"isn't\", 'ma', 'mightn', \"mightn't\", 'mustn', \"mustn't\", 'needn', \"needn't\", 'shan', \"shan't\", 'shouldn', \"shouldn't\", 'wasn', \"wasn't\", 'weren', \"weren't\", 'won', \"won't\", 'wouldn', \"wouldn't\", 'day', 'didnt', 'dont', 'feel', 'friend', 'going', 'got', 'im', 'know', 'like', 'really', 'thing', 'time', 'want', 'year', 'aita', 'wibta', 'asshole'], 'svc__C': 2.782559402207126, 'svc__gamma': 'scale', 'svc__kernel': 'rbf'}\n"
     ]
    }
   ],
   "source": [
    "svc_best_params = svc_gs.best_params_\n",
    "print(svc_best_params)"
   ]
  },
  {
   "cell_type": "markdown",
   "id": "fefe1d9a-1689-4fb1-9516-bd4f166cde0b",
   "metadata": {},
   "source": [
    "##### Confusion Matrix and Accuracy Scores"
   ]
  },
  {
   "cell_type": "code",
   "execution_count": 43,
   "id": "d9cd8410-40cd-4888-9a0c-c30fea78d1ce",
   "metadata": {},
   "outputs": [],
   "source": [
    "#Creating predictions off our training and testing data\n",
    "svc_train_preds = svc_gs.predict(X_train)\n",
    "svc_test_preds = svc_gs.predict(X_test)"
   ]
  },
  {
   "cell_type": "code",
   "execution_count": 44,
   "id": "21dcb7ec-3ae2-4d94-a41a-ebffc282fa7d",
   "metadata": {},
   "outputs": [
    {
     "name": "stdout",
     "output_type": "stream",
     "text": [
      "The accuracy score on our training data is: 0.9870259481037924\n"
     ]
    },
    {
     "data": {
      "image/png": "[encoded data removed]",
      "text/plain": [
       "<Figure size 432x288 with 2 Axes>"
      ]
     },
     "metadata": {
      "needs_background": "light"
     },
     "output_type": "display_data"
    }
   ],
   "source": [
    "#Training Data Confusion matrix\n",
    "cm = confusion_matrix(y_train, svc_train_preds)\n",
    "tn, fp, fn, tp = cm.ravel()\n",
    "ConfusionMatrixDisplay(cm).plot()\n",
    "\n",
    "plt.title('Confusion Matrix for Training Data', size = 15)\n",
    "plt.xlabel('Predicted Subreddit, 0 = r/AmItheAsshole')\n",
    "plt.ylabel('True Subreddit')\n",
    "\n",
    "svc_train_accuracy = accuracy_score(y_train, svc_train_preds)\n",
    "print(f'The accuracy score on our training data is: {svc_train_accuracy}')"
   ]
  },
  {
   "cell_type": "code",
   "execution_count": 45,
   "id": "06038f25-3534-48d1-84ea-ee5ebe1fc7b4",
   "metadata": {},
   "outputs": [
    {
     "data": {
      "text/plain": [
       "{'accuracy': 0.8727544910179641,\n",
       " 'specificity': 0.8608695652173913,\n",
       " 'sensitivity': 0.8854489164086687,\n",
       " 'precision': 0.8562874251497006,\n",
       " 'f1score': 0.8706240487062404}"
      ]
     },
     "execution_count": 45,
     "metadata": {},
     "output_type": "execute_result"
    },
    {
     "data": {
      "image/png": "[encoded data removed]",
      "text/plain": [
       "<Figure size 432x288 with 2 Axes>"
      ]
     },
     "metadata": {
      "needs_background": "light"
     },
     "output_type": "display_data"
    }
   ],
   "source": [
    "#Testing Data Confusion matrix\n",
    "cm = confusion_matrix(y_test, svc_test_preds)\n",
    "tn, fp, fn, tp = cm.ravel()\n",
    "ConfusionMatrixDisplay(cm).plot()\n",
    "\n",
    "plt.title('Confusion Matrix for Testing Data', size = 15)\n",
    "plt.xlabel('Predicted Subreddit, 0 = r/AmItheAsshole')\n",
    "plt.ylabel('True Subreddit')\n",
    "\n",
    "svc_test_accuracy = accuracy_score(y_test, svc_test_preds)\n",
    "class_report(cm)"
   ]
  },
  {
   "cell_type": "markdown",
   "id": "b1e646c8-feb2-455d-8b51-8f09d862275a",
   "metadata": {},
   "source": [
    "As we can see in comparison to our logistic regression model, our SVC model seems to perform better, with it not being extremely overfit. Although it did not improve our testing accuracy score by much, we still have a fairly decent score of 87.72%. As we can see, our C value is 2.78 as we used a logspace. Maybe we can hypertune this to see if we can marginally improve our score. We will also include different degrees for poly to see how it fares in the grid search against our original model. "
   ]
  },
  {
   "cell_type": "code",
   "execution_count": 46,
   "id": "bc0b855f-6ba6-4a43-bbae-860c841d4002",
   "metadata": {},
   "outputs": [],
   "source": [
    "#Instantiating our SVC pipe\n",
    "svc_pipe_ = Pipeline([\n",
    "    ('cvec', CountVectorizer()),\n",
    "    ('svc', SVC())\n",
    "])\n",
    "\n",
    "#Keeping the best params from our initial SVC model, we will explore different options for C\n",
    "svc_params = {\n",
    "    'cvec__max_features' : [700],\n",
    "    'cvec__ngram_range'  : [(1,2), (1,1)],\n",
    "    'cvec__stop_words'   : [stopwords],\n",
    "    'cvec__min_df'       : [0.05],\n",
    "    'cvec__max_df'       : [.9],\n",
    "    'svc__C'             : np.linspace(0, 5, 30),\n",
    "    'svc__kernel'        : ['rbf', 'poly'],\n",
    "    'svc__gamma'         : ['auto'],\n",
    "    'svc__degree'        : [1,2]\n",
    "    }\n",
    "\n",
    "#Setting up our GridSearchCV with the SVC pipe and params\n",
    "svc_gs = GridSearchCV(estimator = svc_pipe,\n",
    "                      param_grid = svc_params,\n",
    "                      cv = 5,\n",
    "                      verbose = 1,\n",
    "                      n_jobs = -1)\n",
    "\n"
   ]
  },
  {
   "cell_type": "code",
   "execution_count": 47,
   "id": "4b4e8afb-185e-4186-ba1b-1f791baa94b3",
   "metadata": {},
   "outputs": [
    {
     "name": "stdout",
     "output_type": "stream",
     "text": [
      "Fitting 5 folds for each of 240 candidates, totalling 1200 fits\n",
      "Elapsed Time to Execute: 170.95726823806763\n"
     ]
    }
   ],
   "source": [
    "\n",
    "start = time.time()\n",
    "\n",
    "svc_gs.fit(X_train, y_train)\n",
    "\n",
    "end = time.time()\n",
    "print(f'Elapsed Time to Execute: {end-start}')"
   ]
  },
  {
   "cell_type": "code",
   "execution_count": 48,
   "id": "46fc5da3-bdc4-4c43-b437-042415f7dcb2",
   "metadata": {},
   "outputs": [
    {
     "name": "stdout",
     "output_type": "stream",
     "text": [
      "5.0\n",
      "rbf\n",
      "1\n",
      "(1, 1)\n"
     ]
    }
   ],
   "source": [
    "#Taking a look at our best parameter for C\n",
    "print(svc_gs.best_params_['svc__C'])\n",
    "print(svc_gs.best_params_['svc__kernel'])\n",
    "print(svc_gs.best_params_['svc__degree'])\n",
    "print(svc_gs.best_params_['cvec__ngram_range'])"
   ]
  },
  {
   "cell_type": "code",
   "execution_count": 49,
   "id": "cdef021c-27dd-454b-bf91-1ac4a5896dd0",
   "metadata": {},
   "outputs": [
    {
     "name": "stdout",
     "output_type": "stream",
     "text": [
      "0.9530938123752495\n",
      "0.8622754491017964\n"
     ]
    }
   ],
   "source": [
    "#Taking a quick peek at our scores to see if there are any marginal improvements in tweaking the C-score\n",
    "print(svc_gs.score(X_train, y_train))\n",
    "print(svc_gs.score(X_test, y_test))"
   ]
  },
  {
   "cell_type": "markdown",
   "id": "bc63a171-0e16-4f7e-8c48-d38e60f81b56",
   "metadata": {},
   "source": [
    "From a quick glance, it doesnt seem adjusting the C-value as a hyperparameter has done much. The best parameter we see for 'svc__C' in our grid search is 5 which is a slight change from our original C parameter value. "
   ]
  },
  {
   "cell_type": "code",
   "execution_count": 50,
   "id": "b16e8b59-4a70-47fc-9c07-bdc76d7fcc94",
   "metadata": {},
   "outputs": [
    {
     "name": "stdout",
     "output_type": "stream",
     "text": [
      "The accuracy score on our training data is: 0.9530938123752495\n"
     ]
    },
    {
     "data": {
      "image/png": "[encoded data removed]",
      "text/plain": [
       "<Figure size 432x288 with 2 Axes>"
      ]
     },
     "metadata": {
      "needs_background": "light"
     },
     "output_type": "display_data"
    }
   ],
   "source": [
    "#Training Data Confusion matrix - SVC\n",
    "svc_train_preds_2 = svc_gs.predict(X_train)\n",
    "svc_test_preds_2 = svc_gs.predict(X_test)\n",
    "\n",
    "cm = confusion_matrix(y_train, svc_train_preds_2)\n",
    "tn, fp, fn, tp = cm.ravel()\n",
    "ConfusionMatrixDisplay(cm).plot()\n",
    "\n",
    "plt.title('Confusion Matrix for Training Data', size = 15)\n",
    "plt.xlabel('Predicted Subreddit, 0 = r/AmItheAsshole')\n",
    "plt.ylabel('True Subreddit')\n",
    "\n",
    "svc_train_accuracy_2 = accuracy_score(y_train, svc_train_preds_2)\n",
    "print(f'The accuracy score on our training data is: {svc_train_accuracy_2}')"
   ]
  },
  {
   "cell_type": "code",
   "execution_count": 51,
   "id": "6230d2cb-d4d8-489c-a197-4676f949d65c",
   "metadata": {},
   "outputs": [
    {
     "data": {
      "text/plain": [
       "{'accuracy': 0.8622754491017964,\n",
       " 'specificity': 0.8361111111111111,\n",
       " 'sensitivity': 0.8928571428571429,\n",
       " 'precision': 0.8233532934131736,\n",
       " 'f1score': 0.8566978193146417}"
      ]
     },
     "execution_count": 51,
     "metadata": {},
     "output_type": "execute_result"
    },
    {
     "data": {
      "image/png": "[encoded data removed]",
      "text/plain": [
       "<Figure size 432x288 with 2 Axes>"
      ]
     },
     "metadata": {
      "needs_background": "light"
     },
     "output_type": "display_data"
    }
   ],
   "source": [
    "#Testing Data Confusion matrix - SVC\n",
    "cm = confusion_matrix(y_test, svc_test_preds_2)\n",
    "tn, fp, fn, tp = cm.ravel()\n",
    "ConfusionMatrixDisplay(cm).plot()\n",
    "\n",
    "plt.title('Confusion Matrix for Testing Data', size = 15)\n",
    "plt.xlabel('Predicted Subreddit, 0 = r/AmItheAsshole')\n",
    "plt.ylabel('True Subreddit')\n",
    "\n",
    "svc_test_accuracy_2 = accuracy_score(y_test, svc_test_preds_2)\n",
    "class_report(cm)"
   ]
  },
  {
   "cell_type": "markdown",
   "id": "a5cb6a68-2dfd-40a8-bc5c-ac48aa43a2b0",
   "metadata": {},
   "source": [
    "Overall, the support vector classifier has been a major improvement over the logistic regression, where we don't see a 100% accuracy score on the training data. We could attribute it to the fact that support vector machines are effective with high-dimensional data and makes sense with our problem statement in that its finding the best way to differentiate between the two subreddits using a hyperplane. By using the SVC, we were able to reduce our overfitness by an accuracy score of 0.04 which is what we expected."
   ]
  },
  {
   "cell_type": "markdown",
   "id": "736ef12d-1d36-4d74-86c4-ca8b155435a7",
   "metadata": {},
   "source": [
    "### Random Forest"
   ]
  },
  {
   "cell_type": "markdown",
   "id": "7b34ae54-4291-44a6-a4a0-9677fb2fb432",
   "metadata": {},
   "source": [
    "Now we move to the Random Forest Classifier. Using this classifier should aid in the high variance we are dealing with in that it will de-correlate decision trees in the model due to the selection of random subsets of features in the learning algorithm. In addition to that, the bootstrapping built into the algorithm which randomly sub-samples our data should reduce variance in its aggregation of individual models. "
   ]
  },
  {
   "cell_type": "code",
   "execution_count": 52,
   "id": "52f99007-6754-4129-9667-3248d1f76b3b",
   "metadata": {},
   "outputs": [],
   "source": [
    "rf_pipe = Pipeline([\n",
    "    ('cvec', CountVectorizer()),\n",
    "    ('rf', RandomForestClassifier(random_state = 42))\n",
    "])\n",
    "\n",
    "rf_pipe_params = {\n",
    "    'cvec__max_features' : [None, 750],\n",
    "    'cvec__ngram_range'  : [(1,2)],\n",
    "    'cvec__stop_words'   : [stopwords],\n",
    "    'rf__n_estimators'   : [30,100,300,600,800],\n",
    "    'rf__max_depth'      : [15],\n",
    "    'rf__min_samples_split': [3,6],\n",
    "    'rf__min_samples_leaf': [2],\n",
    "    'rf__max_features'   : [10,25,50],\n",
    "    \n",
    "}\n",
    "\n",
    "rf_gs = GridSearchCV(estimator = rf_pipe,\n",
    "                     param_grid = rf_pipe_params,\n",
    "                     cv = 5,\n",
    "                     n_jobs = -1,\n",
    "                     verbose = 1)"
   ]
  },
  {
   "cell_type": "code",
   "execution_count": 53,
   "id": "80b0ced7-28fa-49c1-b8e9-ece9f24fab80",
   "metadata": {},
   "outputs": [
    {
     "name": "stdout",
     "output_type": "stream",
     "text": [
      "Fitting 5 folds for each of 60 candidates, totalling 300 fits\n",
      "Elapsed Time to Execute: 92.69463896751404\n"
     ]
    }
   ],
   "source": [
    "\n",
    "\n",
    "start = time.time()\n",
    "\n",
    "rf_gs.fit(X_train, y_train)\n",
    "\n",
    "end = time.time()\n",
    "print(f'Elapsed Time to Execute: {end-start}')"
   ]
  },
  {
   "cell_type": "code",
   "execution_count": 54,
   "id": "2dc545e7-3528-4f20-840e-b05f4682d4d2",
   "metadata": {},
   "outputs": [
    {
     "data": {
      "text/plain": [
       "Pipeline(steps=[('cvec',\n",
       "                 CountVectorizer(max_features=750, ngram_range=(1, 2),\n",
       "                                 stop_words=['i', 'me', 'my', 'myself', 'we',\n",
       "                                             'our', 'ours', 'ourselves', 'you',\n",
       "                                             \"you're\", \"you've\", \"you'll\",\n",
       "                                             \"you'd\", 'your', 'yours',\n",
       "                                             'yourself', 'yourselves', 'he',\n",
       "                                             'him', 'his', 'himself', 'she',\n",
       "                                             \"she's\", 'her', 'hers', 'herself',\n",
       "                                             'it', \"it's\", 'its', 'itself', ...])),\n",
       "                ('rf',\n",
       "                 RandomForestClassifier(max_depth=15, max_features=50,\n",
       "                                        min_samples_leaf=2, min_samples_split=6,\n",
       "                                        n_estimators=800, random_state=42))])"
      ]
     },
     "execution_count": 54,
     "metadata": {},
     "output_type": "execute_result"
    }
   ],
   "source": [
    "rf_gs.best_estimator_"
   ]
  },
  {
   "cell_type": "code",
   "execution_count": 55,
   "id": "a778f07b-7e54-4962-8a69-1776560002c0",
   "metadata": {},
   "outputs": [
    {
     "name": "stdout",
     "output_type": "stream",
     "text": [
      "The accuracy score on our training data is: 0.9670658682634731\n"
     ]
    },
    {
     "data": {
      "image/png": "[encoded data removed]",
      "text/plain": [
       "<Figure size 432x288 with 2 Axes>"
      ]
     },
     "metadata": {
      "needs_background": "light"
     },
     "output_type": "display_data"
    }
   ],
   "source": [
    "#Training Data Confusion matrix - Random Forest\n",
    "rf_train_preds = rf_gs.predict(X_train)\n",
    "rf_test_preds = rf_gs.predict(X_test)\n",
    "\n",
    "cm = confusion_matrix(y_train, rf_train_preds)\n",
    "tn, fp, fn, tp = cm.ravel()\n",
    "ConfusionMatrixDisplay(cm).plot()\n",
    "\n",
    "plt.title('Confusion Matrix for Training Data', size = 15)\n",
    "plt.xlabel('Predicted Subreddit, 0 = r/AmItheAsshole')\n",
    "plt.ylabel('True Subreddit')\n",
    "\n",
    "rf_train_accuracy = accuracy_score(y_train, rf_train_preds)\n",
    "print(f'The accuracy score on our training data is: {rf_train_accuracy}')"
   ]
  },
  {
   "cell_type": "code",
   "execution_count": 56,
   "id": "5f4c118a-f4d2-4883-8605-7ff5ba6da2e3",
   "metadata": {},
   "outputs": [
    {
     "name": "stdout",
     "output_type": "stream",
     "text": [
      "The accuracy score on our training data is: 0.8532934131736527\n"
     ]
    },
    {
     "data": {
      "text/plain": [
       "{'accuracy': 0.8532934131736527,\n",
       " 'specificity': 0.8575757575757575,\n",
       " 'sensitivity': 0.849112426035503,\n",
       " 'precision': 0.8592814371257484,\n",
       " 'f1score': 0.8541666666666666}"
      ]
     },
     "execution_count": 56,
     "metadata": {},
     "output_type": "execute_result"
    },
    {
     "data": {
      "image/png": "[encoded data removed]",
      "text/plain": [
       "<Figure size 432x288 with 2 Axes>"
      ]
     },
     "metadata": {
      "needs_background": "light"
     },
     "output_type": "display_data"
    }
   ],
   "source": [
    "#Testing Data Confusion Matrix - Random Forest\n",
    "cm = confusion_matrix(y_test, rf_test_preds)\n",
    "tn, fp, fn, tp = cm.ravel()\n",
    "ConfusionMatrixDisplay(cm).plot()\n",
    "\n",
    "plt.title('Confusion Matrix for Training Data', size = 15)\n",
    "plt.xlabel('Predicted Subreddit, 0 = r/AmItheAsshole')\n",
    "plt.ylabel('True Subreddit')\n",
    "\n",
    "rf_test_accuracy = accuracy_score(y_test, rf_test_preds)\n",
    "print(f'The accuracy score on our training data is: {rf_test_accuracy}')\n",
    "\n",
    "class_report(cm)"
   ]
  },
  {
   "cell_type": "markdown",
   "id": "ad3aa61f-8606-422d-b0c7-375ddb42e8e5",
   "metadata": {},
   "source": [
    "Surprisingly, despite our hopes for the Random Forest Classifier, it seems it overfits more than the SVC. The silver lining to our Random Forest model is that the number of false positives has finally decreased or at least the ratio to the false negatives. With this in mind, it is interesting to see that our Random Forest model has the best specificity score, but that doesn't mean that this is a great model in comparison to our past models. This just may be due to the number of features we have or just the overall size of the training data. We will adjust the hyper parameters to see if we can adjust our model."
   ]
  },
  {
   "cell_type": "code",
   "execution_count": 57,
   "id": "a28a0c1b-2268-4a43-a842-43051afe83e1",
   "metadata": {},
   "outputs": [],
   "source": [
    "#This model will have a lot less in number of trees and depth. \n",
    "rf_pipe_2 = Pipeline([\n",
    "    ('cvec', CountVectorizer()),\n",
    "    ('rf', RandomForestClassifier(random_state = 80))\n",
    "])\n",
    "\n",
    "rf_pipe_params_2 = {\n",
    "    'cvec__max_features' : [1000],\n",
    "    'cvec__ngram_range'  : [(1,5)],\n",
    "    'cvec__min_df'       : [.03],\n",
    "    'cvec__stop_words'   : [stopwords],\n",
    "    'rf__bootstrap'      : [True, False],\n",
    "    'rf__n_estimators'   : [35, 100],\n",
    "    'rf__max_depth'      : [None, 5, 12],\n",
    "    'rf__min_samples_split': [8, 16],\n",
    "    'rf__max_features'   : [None, 'log2', 'auto', .01, 10, 50],\n",
    "    \n",
    "}\n",
    "\n",
    "rf_gs_2 = GridSearchCV(estimator = rf_pipe_2,\n",
    "                     param_grid = rf_pipe_params_2,\n",
    "                     cv = 5,\n",
    "                     n_jobs = -1,\n",
    "                     verbose = 1)"
   ]
  },
  {
   "cell_type": "code",
   "execution_count": 58,
   "id": "61906203-e1fc-4711-bf33-ca69066f72da",
   "metadata": {},
   "outputs": [
    {
     "name": "stdout",
     "output_type": "stream",
     "text": [
      "Fitting 5 folds for each of 144 candidates, totalling 720 fits\n",
      "Time Elapsed to Execute Code: 421.9443368911743\n"
     ]
    }
   ],
   "source": [
    "#Fitting our second random forest grid search\n",
    "start = time.time()\n",
    "rf_gs_2.fit(X_train, y_train)\n",
    "end = time.time()\n",
    "print(f'Time Elapsed to Execute Code: {end-start}')"
   ]
  },
  {
   "cell_type": "code",
   "execution_count": 59,
   "id": "0b752fa1-eecb-43d2-a731-08dc175ae8fc",
   "metadata": {},
   "outputs": [
    {
     "name": "stdout",
     "output_type": "stream",
     "text": [
      "The accuracy score on our training data is: 0.9970059880239521\n"
     ]
    },
    {
     "data": {
      "image/png": "[encoded data removed]",
      "text/plain": [
       "<Figure size 432x288 with 2 Axes>"
      ]
     },
     "metadata": {
      "needs_background": "light"
     },
     "output_type": "display_data"
    }
   ],
   "source": [
    "#Training Data Confusion matrix - Random Forest, Version 2\n",
    "rf_train_preds_2 = rf_gs_2.predict(X_train)\n",
    "rf_test_preds_2 = rf_gs_2.predict(X_test)\n",
    "\n",
    "cm = confusion_matrix(y_train, rf_train_preds_2)\n",
    "tn, fp, fn, tp = cm.ravel()\n",
    "ConfusionMatrixDisplay(cm).plot()\n",
    "\n",
    "plt.title('Confusion Matrix for Training Data', size = 15)\n",
    "plt.xlabel('Predicted Subreddit, 0 = r/AmItheAsshole')\n",
    "plt.ylabel('True Subreddit')\n",
    "\n",
    "rf_train_accuracy_2 = accuracy_score(y_train, rf_train_preds_2)\n",
    "print(f'The accuracy score on our training data is: {rf_train_accuracy_2}')"
   ]
  },
  {
   "cell_type": "code",
   "execution_count": 80,
   "id": "426f414f-76a9-45b3-87fa-3331497f7809",
   "metadata": {},
   "outputs": [
    {
     "name": "stdout",
     "output_type": "stream",
     "text": [
      "The accuracy score on our training data is: 0.875748502994012\n"
     ]
    },
    {
     "data": {
      "text/plain": [
       "{'accuracy': 0.875748502994012,\n",
       " 'specificity': 0.9061488673139159,\n",
       " 'sensitivity': 0.8495821727019499,\n",
       " 'precision': 0.9131736526946108,\n",
       " 'f1score': 0.8802308802308803}"
      ]
     },
     "execution_count": 80,
     "metadata": {},
     "output_type": "execute_result"
    },
    {
     "data": {
      "image/png": "[encoded data removed]",
      "text/plain": [
       "<Figure size 432x288 with 2 Axes>"
      ]
     },
     "metadata": {
      "needs_background": "light"
     },
     "output_type": "display_data"
    }
   ],
   "source": [
    "#Testing Data Confusion Matrix - Random Forest, Version 2\n",
    "cm = confusion_matrix(y_test, rf_test_preds_2)\n",
    "tn, fp, fn, tp = cm.ravel()\n",
    "ConfusionMatrixDisplay(cm).plot()\n",
    "\n",
    "plt.title('Confusion Matrix for Training Data', size = 15)\n",
    "plt.xlabel('Predicted Subreddit, 0 = r/AmItheAsshole')\n",
    "plt.ylabel('True Subreddit')\n",
    "plt.savefig('./images/confusion_matrix_best_model.png')\n",
    "\n",
    "rf_test_accuracy_2 = accuracy_score(y_test, rf_test_preds_2)\n",
    "print(f'The accuracy score on our training data is: {rf_test_accuracy_2}')\n",
    "\n",
    "class_report(cm)"
   ]
  },
  {
   "cell_type": "code",
   "execution_count": 61,
   "id": "1ef9984b-f278-46f9-b32c-62c99150f9c7",
   "metadata": {},
   "outputs": [
    {
     "data": {
      "text/plain": [
       "{'cvec__max_features': 1000,\n",
       " 'cvec__min_df': 0.03,\n",
       " 'cvec__ngram_range': (1, 5),\n",
       " 'cvec__stop_words': ['i',\n",
       "  'me',\n",
       "  'my',\n",
       "  'myself',\n",
       "  'we',\n",
       "  'our',\n",
       "  'ours',\n",
       "  'ourselves',\n",
       "  'you',\n",
       "  \"you're\",\n",
       "  \"you've\",\n",
       "  \"you'll\",\n",
       "  \"you'd\",\n",
       "  'your',\n",
       "  'yours',\n",
       "  'yourself',\n",
       "  'yourselves',\n",
       "  'he',\n",
       "  'him',\n",
       "  'his',\n",
       "  'himself',\n",
       "  'she',\n",
       "  \"she's\",\n",
       "  'her',\n",
       "  'hers',\n",
       "  'herself',\n",
       "  'it',\n",
       "  \"it's\",\n",
       "  'its',\n",
       "  'itself',\n",
       "  'they',\n",
       "  'them',\n",
       "  'their',\n",
       "  'theirs',\n",
       "  'themselves',\n",
       "  'what',\n",
       "  'which',\n",
       "  'who',\n",
       "  'whom',\n",
       "  'this',\n",
       "  'that',\n",
       "  \"that'll\",\n",
       "  'these',\n",
       "  'those',\n",
       "  'am',\n",
       "  'is',\n",
       "  'are',\n",
       "  'was',\n",
       "  'were',\n",
       "  'be',\n",
       "  'been',\n",
       "  'being',\n",
       "  'have',\n",
       "  'has',\n",
       "  'had',\n",
       "  'having',\n",
       "  'do',\n",
       "  'does',\n",
       "  'did',\n",
       "  'doing',\n",
       "  'a',\n",
       "  'an',\n",
       "  'the',\n",
       "  'and',\n",
       "  'but',\n",
       "  'if',\n",
       "  'or',\n",
       "  'because',\n",
       "  'as',\n",
       "  'until',\n",
       "  'while',\n",
       "  'of',\n",
       "  'at',\n",
       "  'by',\n",
       "  'for',\n",
       "  'with',\n",
       "  'about',\n",
       "  'against',\n",
       "  'between',\n",
       "  'into',\n",
       "  'through',\n",
       "  'during',\n",
       "  'before',\n",
       "  'after',\n",
       "  'above',\n",
       "  'below',\n",
       "  'to',\n",
       "  'from',\n",
       "  'up',\n",
       "  'down',\n",
       "  'in',\n",
       "  'out',\n",
       "  'on',\n",
       "  'off',\n",
       "  'over',\n",
       "  'under',\n",
       "  'again',\n",
       "  'further',\n",
       "  'then',\n",
       "  'once',\n",
       "  'here',\n",
       "  'there',\n",
       "  'when',\n",
       "  'where',\n",
       "  'why',\n",
       "  'how',\n",
       "  'all',\n",
       "  'any',\n",
       "  'both',\n",
       "  'each',\n",
       "  'few',\n",
       "  'more',\n",
       "  'most',\n",
       "  'other',\n",
       "  'some',\n",
       "  'such',\n",
       "  'no',\n",
       "  'nor',\n",
       "  'not',\n",
       "  'only',\n",
       "  'own',\n",
       "  'same',\n",
       "  'so',\n",
       "  'than',\n",
       "  'too',\n",
       "  'very',\n",
       "  's',\n",
       "  't',\n",
       "  'can',\n",
       "  'will',\n",
       "  'just',\n",
       "  'don',\n",
       "  \"don't\",\n",
       "  'should',\n",
       "  \"should've\",\n",
       "  'now',\n",
       "  'd',\n",
       "  'll',\n",
       "  'm',\n",
       "  'o',\n",
       "  're',\n",
       "  've',\n",
       "  'y',\n",
       "  'ain',\n",
       "  'aren',\n",
       "  \"aren't\",\n",
       "  'couldn',\n",
       "  \"couldn't\",\n",
       "  'didn',\n",
       "  \"didn't\",\n",
       "  'doesn',\n",
       "  \"doesn't\",\n",
       "  'hadn',\n",
       "  \"hadn't\",\n",
       "  'hasn',\n",
       "  \"hasn't\",\n",
       "  'haven',\n",
       "  \"haven't\",\n",
       "  'isn',\n",
       "  \"isn't\",\n",
       "  'ma',\n",
       "  'mightn',\n",
       "  \"mightn't\",\n",
       "  'mustn',\n",
       "  \"mustn't\",\n",
       "  'needn',\n",
       "  \"needn't\",\n",
       "  'shan',\n",
       "  \"shan't\",\n",
       "  'shouldn',\n",
       "  \"shouldn't\",\n",
       "  'wasn',\n",
       "  \"wasn't\",\n",
       "  'weren',\n",
       "  \"weren't\",\n",
       "  'won',\n",
       "  \"won't\",\n",
       "  'wouldn',\n",
       "  \"wouldn't\",\n",
       "  'day',\n",
       "  'didnt',\n",
       "  'dont',\n",
       "  'feel',\n",
       "  'friend',\n",
       "  'going',\n",
       "  'got',\n",
       "  'im',\n",
       "  'know',\n",
       "  'like',\n",
       "  'really',\n",
       "  'thing',\n",
       "  'time',\n",
       "  'want',\n",
       "  'year',\n",
       "  'aita',\n",
       "  'wibta',\n",
       "  'asshole'],\n",
       " 'rf__bootstrap': False,\n",
       " 'rf__max_depth': None,\n",
       " 'rf__max_features': 'auto',\n",
       " 'rf__min_samples_split': 16,\n",
       " 'rf__n_estimators': 100}"
      ]
     },
     "execution_count": 61,
     "metadata": {},
     "output_type": "execute_result"
    }
   ],
   "source": [
    "rf_gs_2.best_params_"
   ]
  },
  {
   "cell_type": "markdown",
   "id": "3f1c35c4-d49d-4ae9-8e09-d0388e3c5f77",
   "metadata": {},
   "source": [
    "In using a gridsearch where our Random Forest is a bit scaled down in the hyperparameters, we can see an improvement in our random forest model in terms of our accuracy score on our testing data. Our random state is also set to a different number which may also a play a part in the difference of our score. "
   ]
  },
  {
   "cell_type": "markdown",
   "id": "f1c7aebd-9a1a-4b9e-84da-e82de615c776",
   "metadata": {},
   "source": [
    "#### Random Forest with TFIDF Vectorizer"
   ]
  },
  {
   "cell_type": "markdown",
   "id": "b4c61cba-bb01-41bc-965c-7a0298649186",
   "metadata": {},
   "source": [
    "With how overfit the Random Forest model was, we want to run a last model but using the Term Frequency-Inverse Document Frequency(TF-IDF) Vectorizer. This vectorizer should discount very common words and highlight words that are very specific to a certain post. The weight that is added to these words may help in differentiating the two subreddits. "
   ]
  },
  {
   "cell_type": "code",
   "execution_count": 62,
   "id": "d5a3d9fd-2f93-4a44-a90f-a735c8f03a48",
   "metadata": {},
   "outputs": [],
   "source": [
    "#Instantiating a Tfid Vectorizer in our pipe\n",
    "tvec_rf_pipe = Pipeline([\n",
    "    ('tvec', TfidfVectorizer()),\n",
    "    ('rf', RandomForestClassifier(random_state = 80))\n",
    "])\n",
    "\n",
    "#Using best parameters set by our past gridsearch on our initial RF model\n",
    "tvec_pipe_params = {\n",
    "    'tvec__max_features' : [300, 750,1500, 3000],\n",
    "    'tvec__ngram_range'  : [(1,2), (1,1), (1,3)],\n",
    "    'tvec__stop_words'   : [stopwords],\n",
    "    'rf__n_estimators'   : [200,800, 1500],\n",
    "    'rf__max_depth'      : [15],\n",
    "    'rf__min_samples_leaf': [2],\n",
    "    'rf__max_features'   : [25, 50],\n",
    "    \n",
    "}\n",
    "\n",
    "tvec_rf_gs = GridSearchCV(estimator = tvec_rf_pipe,\n",
    "                     param_grid = tvec_pipe_params,\n",
    "                     cv = 5,\n",
    "                     n_jobs = 4,\n",
    "                     verbose = 1)"
   ]
  },
  {
   "cell_type": "code",
   "execution_count": 63,
   "id": "68ae4934-62d7-42fe-9d0d-0c9fa5376394",
   "metadata": {},
   "outputs": [
    {
     "name": "stdout",
     "output_type": "stream",
     "text": [
      "Fitting 5 folds for each of 72 candidates, totalling 360 fits\n",
      "Elapsed Time to Execute: 535.9179854393005\n"
     ]
    }
   ],
   "source": [
    "#Fitting it to our training data\n",
    "start = time.time()\n",
    "\n",
    "tvec_rf_gs.fit(X_train, y_train)\n",
    "\n",
    "end = time.time()\n",
    "print(f'Elapsed Time to Execute: {end-start}')\n"
   ]
  },
  {
   "cell_type": "code",
   "execution_count": 64,
   "id": "13d61fe1-63cb-49ca-ae43-e7c9cd799a6d",
   "metadata": {},
   "outputs": [
    {
     "name": "stdout",
     "output_type": "stream",
     "text": [
      "{'rf__max_depth': 15, 'rf__max_features': 50, 'rf__min_samples_leaf': 2, 'rf__n_estimators': 800, 'tvec__max_features': 1500, 'tvec__ngram_range': (1, 3), 'tvec__stop_words': ['i', 'me', 'my', 'myself', 'we', 'our', 'ours', 'ourselves', 'you', \"you're\", \"you've\", \"you'll\", \"you'd\", 'your', 'yours', 'yourself', 'yourselves', 'he', 'him', 'his', 'himself', 'she', \"she's\", 'her', 'hers', 'herself', 'it', \"it's\", 'its', 'itself', 'they', 'them', 'their', 'theirs', 'themselves', 'what', 'which', 'who', 'whom', 'this', 'that', \"that'll\", 'these', 'those', 'am', 'is', 'are', 'was', 'were', 'be', 'been', 'being', 'have', 'has', 'had', 'having', 'do', 'does', 'did', 'doing', 'a', 'an', 'the', 'and', 'but', 'if', 'or', 'because', 'as', 'until', 'while', 'of', 'at', 'by', 'for', 'with', 'about', 'against', 'between', 'into', 'through', 'during', 'before', 'after', 'above', 'below', 'to', 'from', 'up', 'down', 'in', 'out', 'on', 'off', 'over', 'under', 'again', 'further', 'then', 'once', 'here', 'there', 'when', 'where', 'why', 'how', 'all', 'any', 'both', 'each', 'few', 'more', 'most', 'other', 'some', 'such', 'no', 'nor', 'not', 'only', 'own', 'same', 'so', 'than', 'too', 'very', 's', 't', 'can', 'will', 'just', 'don', \"don't\", 'should', \"should've\", 'now', 'd', 'll', 'm', 'o', 're', 've', 'y', 'ain', 'aren', \"aren't\", 'couldn', \"couldn't\", 'didn', \"didn't\", 'doesn', \"doesn't\", 'hadn', \"hadn't\", 'hasn', \"hasn't\", 'haven', \"haven't\", 'isn', \"isn't\", 'ma', 'mightn', \"mightn't\", 'mustn', \"mustn't\", 'needn', \"needn't\", 'shan', \"shan't\", 'shouldn', \"shouldn't\", 'wasn', \"wasn't\", 'weren', \"weren't\", 'won', \"won't\", 'wouldn', \"wouldn't\", 'day', 'didnt', 'dont', 'feel', 'friend', 'going', 'got', 'im', 'know', 'like', 'really', 'thing', 'time', 'want', 'year', 'aita', 'wibta', 'asshole']}\n"
     ]
    }
   ],
   "source": [
    "rf_best_params = tvec_rf_gs.best_params_\n",
    "print(rf_best_params)"
   ]
  },
  {
   "cell_type": "code",
   "execution_count": 65,
   "id": "1a3cc626-e301-4322-9f6a-98219842f8d0",
   "metadata": {},
   "outputs": [
    {
     "name": "stdout",
     "output_type": "stream",
     "text": [
      "The accuracy score on our training data is: 0.9820359281437125\n"
     ]
    },
    {
     "data": {
      "image/png": "[encoded data removed]",
      "text/plain": [
       "<Figure size 432x288 with 2 Axes>"
      ]
     },
     "metadata": {
      "needs_background": "light"
     },
     "output_type": "display_data"
    }
   ],
   "source": [
    "#Training Data Confusion matrix - Random Forest, TFIDF\n",
    "tvec_train_preds = tvec_rf_gs.predict(X_train)\n",
    "\n",
    "\n",
    "cm = confusion_matrix(y_train, tvec_train_preds)\n",
    "tn, fp, fn, tp = cm.ravel()\n",
    "ConfusionMatrixDisplay(cm).plot()\n",
    "\n",
    "plt.title('Confusion Matrix for Training Data', size = 15)\n",
    "plt.xlabel('Predicted Subreddit, 0 = r/AmItheAsshole')\n",
    "plt.ylabel('True Subreddit')\n",
    "\n",
    "tvec_train_accuracy = accuracy_score(y_train, tvec_train_preds)\n",
    "print(f'The accuracy score on our training data is: {tvec_train_accuracy}')"
   ]
  },
  {
   "cell_type": "code",
   "execution_count": 66,
   "id": "7fb55c06-5ed9-407d-9a9f-70442b126365",
   "metadata": {},
   "outputs": [
    {
     "data": {
      "text/plain": [
       "{'accuracy': 0.8637724550898204,\n",
       " 'specificity': 0.8584070796460177,\n",
       " 'sensitivity': 0.8693009118541033,\n",
       " 'precision': 0.8562874251497006,\n",
       " 'f1score': 0.8627450980392157}"
      ]
     },
     "execution_count": 66,
     "metadata": {},
     "output_type": "execute_result"
    },
    {
     "data": {
      "image/png": "[encoded data removed]",
      "text/plain": [
       "<Figure size 432x288 with 2 Axes>"
      ]
     },
     "metadata": {
      "needs_background": "light"
     },
     "output_type": "display_data"
    }
   ],
   "source": [
    "#Testing Data Confusion matrix - Random Forest, TFIDF\n",
    "tvec_test_preds = tvec_rf_gs.predict(X_test)\n",
    "\n",
    "cm = confusion_matrix(y_test, tvec_test_preds)\n",
    "tn, fp, fn, tp = cm.ravel()\n",
    "ConfusionMatrixDisplay(cm).plot()\n",
    "\n",
    "plt.title('Confusion Matrix for Training Data', size = 15)\n",
    "plt.xlabel('Predicted Subreddit, 0 = r/AmItheAsshole')\n",
    "plt.ylabel('True Subreddit')\n",
    "\n",
    "tvec_test_accuracy = accuracy_score(y_test, tvec_test_preds)\n",
    "class_report(cm)"
   ]
  },
  {
   "cell_type": "markdown",
   "id": "46f88092-a732-456d-8ae6-a19f5b6034ea",
   "metadata": {},
   "source": [
    "Even with the TFIDF Vectorizer, we still had an overfit model much like our initial RF model. Interestingly enough, we see the least disparity when it came to the specificity and sensitivity, where they are both around the same relative value (0.86-0.87), as well as our precision and accuracy."
   ]
  },
  {
   "cell_type": "markdown",
   "id": "8f28e633-f384-4016-9de1-79aa068cd7f2",
   "metadata": {},
   "source": [
    "### Evaluation Exports"
   ]
  },
  {
   "cell_type": "markdown",
   "id": "1fbb72aa-178e-4913-a6c4-6e08a8e9b6c0",
   "metadata": {},
   "source": [
    "Here we will create a dataframe "
   ]
  },
  {
   "cell_type": "code",
   "execution_count": 67,
   "id": "edd57da4-0c2e-42bb-a2e4-1a9f45dddda9",
   "metadata": {},
   "outputs": [],
   "source": [
    "#Creating lists with our accuracy scores\n",
    "test_scores = [lr_test_accuracy, svc_test_accuracy, svc_test_accuracy_2, rf_test_accuracy, rf_test_accuracy_2, tvec_test_accuracy]\n",
    "train_scores = [lr_train_accuracy, svc_train_accuracy, svc_train_accuracy_2, rf_train_accuracy, rf_train_accuracy_2, tvec_train_accuracy]"
   ]
  },
  {
   "cell_type": "code",
   "execution_count": 68,
   "id": "2f2fcdb2-776e-46de-a341-16263fea81f2",
   "metadata": {},
   "outputs": [],
   "source": [
    "#Creating a dataframe with our scores\n",
    "scores_df = pd.DataFrame(data = [train_scores, test_scores],\n",
    "                         columns = ['Log-Reg', 'SVC', 'SVC-tuned', 'Random Forest', 'Random Forest - tuned','Random Forest + TF-IDF'],\n",
    "                         index = ['Train Accuracy Score', 'Test Accuracy Score'])"
   ]
  },
  {
   "cell_type": "code",
   "execution_count": 69,
   "id": "8817a6b6-4413-470b-bfd4-d4cb6c24b6a2",
   "metadata": {},
   "outputs": [
    {
     "data": {
      "text/html": [
       "<div>\n",
       "<style scoped>\n",
       "    .dataframe tbody tr th:only-of-type {\n",
       "        vertical-align: middle;\n",
       "    }\n",
       "\n",
       "    .dataframe tbody tr th {\n",
       "        vertical-align: top;\n",
       "    }\n",
       "\n",
       "    .dataframe thead th {\n",
       "        text-align: right;\n",
       "    }\n",
       "</style>\n",
       "<table border=\"1\" class=\"dataframe\">\n",
       "  <thead>\n",
       "    <tr style=\"text-align: right;\">\n",
       "      <th></th>\n",
       "      <th>Log-Reg</th>\n",
       "      <th>SVC</th>\n",
       "      <th>SVC-tuned</th>\n",
       "      <th>Random Forest</th>\n",
       "      <th>Random Forest - tuned</th>\n",
       "      <th>Random Forest + TF-IDF</th>\n",
       "    </tr>\n",
       "  </thead>\n",
       "  <tbody>\n",
       "    <tr>\n",
       "      <th>Train Accuracy Score</th>\n",
       "      <td>0.998004</td>\n",
       "      <td>0.987026</td>\n",
       "      <td>0.953094</td>\n",
       "      <td>0.967066</td>\n",
       "      <td>0.997006</td>\n",
       "      <td>0.982036</td>\n",
       "    </tr>\n",
       "    <tr>\n",
       "      <th>Test Accuracy Score</th>\n",
       "      <td>0.854790</td>\n",
       "      <td>0.872754</td>\n",
       "      <td>0.862275</td>\n",
       "      <td>0.853293</td>\n",
       "      <td>0.875749</td>\n",
       "      <td>0.863772</td>\n",
       "    </tr>\n",
       "  </tbody>\n",
       "</table>\n",
       "</div>"
      ],
      "text/plain": [
       "                       Log-Reg       SVC  SVC-tuned  Random Forest  \\\n",
       "Train Accuracy Score  0.998004  0.987026   0.953094       0.967066   \n",
       "Test Accuracy Score   0.854790  0.872754   0.862275       0.853293   \n",
       "\n",
       "                      Random Forest - tuned  Random Forest + TF-IDF  \n",
       "Train Accuracy Score               0.997006                0.982036  \n",
       "Test Accuracy Score                0.875749                0.863772  "
      ]
     },
     "execution_count": 69,
     "metadata": {},
     "output_type": "execute_result"
    }
   ],
   "source": [
    "scores_df"
   ]
  },
  {
   "cell_type": "code",
   "execution_count": 79,
   "id": "b965ae5e-0e89-4f8b-bdca-8664da6f16d5",
   "metadata": {},
   "outputs": [],
   "source": [
    "#Saving as .csv for our metrics\n",
    "scores_df.to_csv('./data/model_metrics_table.csv', index = False)"
   ]
  },
  {
   "cell_type": "markdown",
   "id": "37ddfd26-fd99-4624-9a21-c9b459210d52",
   "metadata": {},
   "source": [
    "#### Random Forest Top Features"
   ]
  },
  {
   "cell_type": "code",
   "execution_count": 73,
   "id": "b1786da9-5804-4fa1-af41-a437146c0326",
   "metadata": {},
   "outputs": [],
   "source": [
    "#Instantiating new cvec and random forest\n",
    "cvec = CountVectorizer(stop_words = stopwords, ngram_range = (1,3), max_features= 1500)\n",
    "\n",
    "\n",
    "rf = RandomForestClassifier(random_state = 80, n_estimators = 800, max_depth = 15, min_samples_leaf = 2, max_features = 50)"
   ]
  },
  {
   "cell_type": "code",
   "execution_count": 74,
   "id": "e0d64925-d4fe-4746-b9e4-5eb9665e6ae2",
   "metadata": {},
   "outputs": [],
   "source": [
    "X_train_vec = cvec.fit_transform(X_train)\n",
    "X_test_vec = cvec.transform(X_test)"
   ]
  },
  {
   "cell_type": "code",
   "execution_count": 75,
   "id": "4410d831-45f7-4d75-b945-69701407322a",
   "metadata": {},
   "outputs": [
    {
     "data": {
      "text/plain": [
       "RandomForestClassifier(max_depth=15, max_features=50, min_samples_leaf=2,\n",
       "                       n_estimators=800, random_state=80)"
      ]
     },
     "execution_count": 75,
     "metadata": {},
     "output_type": "execute_result"
    }
   ],
   "source": [
    "#Fitting on random forest with parameters we found using GridSearch\n",
    "rf.fit(X_train_vec, y_train)"
   ]
  },
  {
   "cell_type": "code",
   "execution_count": 76,
   "id": "aeb2cde2-2ce5-4388-9909-f83c7a65447f",
   "metadata": {},
   "outputs": [],
   "source": [
    "#Creating dataframe of our words\n",
    "X_train_vectors = pd.DataFrame(X_train_vec.toarray(),\n",
    "                            columns = cvec.get_feature_names())\n"
   ]
  },
  {
   "cell_type": "code",
   "execution_count": 77,
   "id": "daf3b1fc-abfa-48f9-9bd2-e4b6357e31f0",
   "metadata": {},
   "outputs": [
    {
     "data": {
      "text/html": [
       "<div>\n",
       "<style scoped>\n",
       "    .dataframe tbody tr th:only-of-type {\n",
       "        vertical-align: middle;\n",
       "    }\n",
       "\n",
       "    .dataframe tbody tr th {\n",
       "        vertical-align: top;\n",
       "    }\n",
       "\n",
       "    .dataframe thead th {\n",
       "        text-align: right;\n",
       "    }\n",
       "</style>\n",
       "<table border=\"1\" class=\"dataframe\">\n",
       "  <thead>\n",
       "    <tr style=\"text-align: right;\">\n",
       "      <th></th>\n",
       "      <th>able</th>\n",
       "      <th>absolutely</th>\n",
       "      <th>abuse</th>\n",
       "      <th>abused</th>\n",
       "      <th>abusive</th>\n",
       "      <th>accept</th>\n",
       "      <th>accepted</th>\n",
       "      <th>accident</th>\n",
       "      <th>accidentally</th>\n",
       "      <th>account</th>\n",
       "      <th>...</th>\n",
       "      <th>yes</th>\n",
       "      <th>yesterday</th>\n",
       "      <th>yet</th>\n",
       "      <th>yo</th>\n",
       "      <th>youd</th>\n",
       "      <th>young</th>\n",
       "      <th>younger</th>\n",
       "      <th>youngest</th>\n",
       "      <th>youre</th>\n",
       "      <th>youve</th>\n",
       "    </tr>\n",
       "  </thead>\n",
       "  <tbody>\n",
       "    <tr>\n",
       "      <th>0</th>\n",
       "      <td>0</td>\n",
       "      <td>0</td>\n",
       "      <td>0</td>\n",
       "      <td>0</td>\n",
       "      <td>0</td>\n",
       "      <td>0</td>\n",
       "      <td>0</td>\n",
       "      <td>0</td>\n",
       "      <td>0</td>\n",
       "      <td>0</td>\n",
       "      <td>...</td>\n",
       "      <td>0</td>\n",
       "      <td>0</td>\n",
       "      <td>0</td>\n",
       "      <td>0</td>\n",
       "      <td>0</td>\n",
       "      <td>0</td>\n",
       "      <td>0</td>\n",
       "      <td>0</td>\n",
       "      <td>0</td>\n",
       "      <td>0</td>\n",
       "    </tr>\n",
       "    <tr>\n",
       "      <th>1</th>\n",
       "      <td>0</td>\n",
       "      <td>0</td>\n",
       "      <td>0</td>\n",
       "      <td>0</td>\n",
       "      <td>0</td>\n",
       "      <td>0</td>\n",
       "      <td>0</td>\n",
       "      <td>0</td>\n",
       "      <td>0</td>\n",
       "      <td>0</td>\n",
       "      <td>...</td>\n",
       "      <td>0</td>\n",
       "      <td>0</td>\n",
       "      <td>0</td>\n",
       "      <td>0</td>\n",
       "      <td>0</td>\n",
       "      <td>0</td>\n",
       "      <td>0</td>\n",
       "      <td>0</td>\n",
       "      <td>0</td>\n",
       "      <td>0</td>\n",
       "    </tr>\n",
       "    <tr>\n",
       "      <th>2</th>\n",
       "      <td>0</td>\n",
       "      <td>0</td>\n",
       "      <td>0</td>\n",
       "      <td>0</td>\n",
       "      <td>0</td>\n",
       "      <td>0</td>\n",
       "      <td>0</td>\n",
       "      <td>0</td>\n",
       "      <td>0</td>\n",
       "      <td>0</td>\n",
       "      <td>...</td>\n",
       "      <td>0</td>\n",
       "      <td>0</td>\n",
       "      <td>0</td>\n",
       "      <td>0</td>\n",
       "      <td>0</td>\n",
       "      <td>0</td>\n",
       "      <td>0</td>\n",
       "      <td>0</td>\n",
       "      <td>0</td>\n",
       "      <td>0</td>\n",
       "    </tr>\n",
       "    <tr>\n",
       "      <th>3</th>\n",
       "      <td>0</td>\n",
       "      <td>0</td>\n",
       "      <td>0</td>\n",
       "      <td>0</td>\n",
       "      <td>0</td>\n",
       "      <td>0</td>\n",
       "      <td>0</td>\n",
       "      <td>0</td>\n",
       "      <td>0</td>\n",
       "      <td>0</td>\n",
       "      <td>...</td>\n",
       "      <td>0</td>\n",
       "      <td>0</td>\n",
       "      <td>0</td>\n",
       "      <td>0</td>\n",
       "      <td>0</td>\n",
       "      <td>0</td>\n",
       "      <td>0</td>\n",
       "      <td>0</td>\n",
       "      <td>0</td>\n",
       "      <td>0</td>\n",
       "    </tr>\n",
       "    <tr>\n",
       "      <th>4</th>\n",
       "      <td>0</td>\n",
       "      <td>0</td>\n",
       "      <td>0</td>\n",
       "      <td>0</td>\n",
       "      <td>0</td>\n",
       "      <td>0</td>\n",
       "      <td>0</td>\n",
       "      <td>0</td>\n",
       "      <td>0</td>\n",
       "      <td>0</td>\n",
       "      <td>...</td>\n",
       "      <td>0</td>\n",
       "      <td>0</td>\n",
       "      <td>0</td>\n",
       "      <td>0</td>\n",
       "      <td>0</td>\n",
       "      <td>0</td>\n",
       "      <td>0</td>\n",
       "      <td>0</td>\n",
       "      <td>0</td>\n",
       "      <td>0</td>\n",
       "    </tr>\n",
       "    <tr>\n",
       "      <th>...</th>\n",
       "      <td>...</td>\n",
       "      <td>...</td>\n",
       "      <td>...</td>\n",
       "      <td>...</td>\n",
       "      <td>...</td>\n",
       "      <td>...</td>\n",
       "      <td>...</td>\n",
       "      <td>...</td>\n",
       "      <td>...</td>\n",
       "      <td>...</td>\n",
       "      <td>...</td>\n",
       "      <td>...</td>\n",
       "      <td>...</td>\n",
       "      <td>...</td>\n",
       "      <td>...</td>\n",
       "      <td>...</td>\n",
       "      <td>...</td>\n",
       "      <td>...</td>\n",
       "      <td>...</td>\n",
       "      <td>...</td>\n",
       "      <td>...</td>\n",
       "    </tr>\n",
       "    <tr>\n",
       "      <th>1999</th>\n",
       "      <td>0</td>\n",
       "      <td>1</td>\n",
       "      <td>0</td>\n",
       "      <td>0</td>\n",
       "      <td>0</td>\n",
       "      <td>0</td>\n",
       "      <td>2</td>\n",
       "      <td>0</td>\n",
       "      <td>0</td>\n",
       "      <td>0</td>\n",
       "      <td>...</td>\n",
       "      <td>0</td>\n",
       "      <td>0</td>\n",
       "      <td>0</td>\n",
       "      <td>0</td>\n",
       "      <td>0</td>\n",
       "      <td>0</td>\n",
       "      <td>0</td>\n",
       "      <td>0</td>\n",
       "      <td>0</td>\n",
       "      <td>0</td>\n",
       "    </tr>\n",
       "    <tr>\n",
       "      <th>2000</th>\n",
       "      <td>0</td>\n",
       "      <td>0</td>\n",
       "      <td>0</td>\n",
       "      <td>0</td>\n",
       "      <td>0</td>\n",
       "      <td>0</td>\n",
       "      <td>0</td>\n",
       "      <td>0</td>\n",
       "      <td>0</td>\n",
       "      <td>0</td>\n",
       "      <td>...</td>\n",
       "      <td>0</td>\n",
       "      <td>0</td>\n",
       "      <td>0</td>\n",
       "      <td>0</td>\n",
       "      <td>0</td>\n",
       "      <td>0</td>\n",
       "      <td>0</td>\n",
       "      <td>0</td>\n",
       "      <td>0</td>\n",
       "      <td>0</td>\n",
       "    </tr>\n",
       "    <tr>\n",
       "      <th>2001</th>\n",
       "      <td>0</td>\n",
       "      <td>0</td>\n",
       "      <td>0</td>\n",
       "      <td>0</td>\n",
       "      <td>0</td>\n",
       "      <td>0</td>\n",
       "      <td>0</td>\n",
       "      <td>0</td>\n",
       "      <td>0</td>\n",
       "      <td>0</td>\n",
       "      <td>...</td>\n",
       "      <td>0</td>\n",
       "      <td>0</td>\n",
       "      <td>0</td>\n",
       "      <td>0</td>\n",
       "      <td>0</td>\n",
       "      <td>0</td>\n",
       "      <td>0</td>\n",
       "      <td>0</td>\n",
       "      <td>0</td>\n",
       "      <td>0</td>\n",
       "    </tr>\n",
       "    <tr>\n",
       "      <th>2002</th>\n",
       "      <td>0</td>\n",
       "      <td>0</td>\n",
       "      <td>0</td>\n",
       "      <td>0</td>\n",
       "      <td>0</td>\n",
       "      <td>0</td>\n",
       "      <td>0</td>\n",
       "      <td>0</td>\n",
       "      <td>0</td>\n",
       "      <td>0</td>\n",
       "      <td>...</td>\n",
       "      <td>0</td>\n",
       "      <td>0</td>\n",
       "      <td>0</td>\n",
       "      <td>0</td>\n",
       "      <td>0</td>\n",
       "      <td>0</td>\n",
       "      <td>0</td>\n",
       "      <td>0</td>\n",
       "      <td>0</td>\n",
       "      <td>0</td>\n",
       "    </tr>\n",
       "    <tr>\n",
       "      <th>2003</th>\n",
       "      <td>0</td>\n",
       "      <td>0</td>\n",
       "      <td>0</td>\n",
       "      <td>0</td>\n",
       "      <td>0</td>\n",
       "      <td>0</td>\n",
       "      <td>0</td>\n",
       "      <td>0</td>\n",
       "      <td>0</td>\n",
       "      <td>0</td>\n",
       "      <td>...</td>\n",
       "      <td>0</td>\n",
       "      <td>0</td>\n",
       "      <td>0</td>\n",
       "      <td>0</td>\n",
       "      <td>0</td>\n",
       "      <td>0</td>\n",
       "      <td>0</td>\n",
       "      <td>0</td>\n",
       "      <td>0</td>\n",
       "      <td>0</td>\n",
       "    </tr>\n",
       "  </tbody>\n",
       "</table>\n",
       "<p>2004 rows × 1500 columns</p>\n",
       "</div>"
      ],
      "text/plain": [
       "      able  absolutely  abuse  abused  abusive  accept  accepted  accident  \\\n",
       "0        0           0      0       0        0       0         0         0   \n",
       "1        0           0      0       0        0       0         0         0   \n",
       "2        0           0      0       0        0       0         0         0   \n",
       "3        0           0      0       0        0       0         0         0   \n",
       "4        0           0      0       0        0       0         0         0   \n",
       "...    ...         ...    ...     ...      ...     ...       ...       ...   \n",
       "1999     0           1      0       0        0       0         2         0   \n",
       "2000     0           0      0       0        0       0         0         0   \n",
       "2001     0           0      0       0        0       0         0         0   \n",
       "2002     0           0      0       0        0       0         0         0   \n",
       "2003     0           0      0       0        0       0         0         0   \n",
       "\n",
       "      accidentally  account  ...  yes  yesterday  yet  yo  youd  young  \\\n",
       "0                0        0  ...    0          0    0   0     0      0   \n",
       "1                0        0  ...    0          0    0   0     0      0   \n",
       "2                0        0  ...    0          0    0   0     0      0   \n",
       "3                0        0  ...    0          0    0   0     0      0   \n",
       "4                0        0  ...    0          0    0   0     0      0   \n",
       "...            ...      ...  ...  ...        ...  ...  ..   ...    ...   \n",
       "1999             0        0  ...    0          0    0   0     0      0   \n",
       "2000             0        0  ...    0          0    0   0     0      0   \n",
       "2001             0        0  ...    0          0    0   0     0      0   \n",
       "2002             0        0  ...    0          0    0   0     0      0   \n",
       "2003             0        0  ...    0          0    0   0     0      0   \n",
       "\n",
       "      younger  youngest  youre  youve  \n",
       "0           0         0      0      0  \n",
       "1           0         0      0      0  \n",
       "2           0         0      0      0  \n",
       "3           0         0      0      0  \n",
       "4           0         0      0      0  \n",
       "...       ...       ...    ...    ...  \n",
       "1999        0         0      0      0  \n",
       "2000        0         0      0      0  \n",
       "2001        0         0      0      0  \n",
       "2002        0         0      0      0  \n",
       "2003        0         0      0      0  \n",
       "\n",
       "[2004 rows x 1500 columns]"
      ]
     },
     "execution_count": 77,
     "metadata": {},
     "output_type": "execute_result"
    }
   ],
   "source": [
    "X_train_vectors"
   ]
  },
  {
   "cell_type": "code",
   "execution_count": 78,
   "id": "3438fc68-7ffc-48ff-b5e0-07785dde7c7f",
   "metadata": {},
   "outputs": [
    {
     "data": {
      "image/png": "[encoded data removed]",
      "text/plain": [
       "<Figure size 432x288 with 1 Axes>"
      ]
     },
     "metadata": {
      "needs_background": "light"
     },
     "output_type": "display_data"
    },
    {
     "data": {
      "text/plain": [
       "<Figure size 936x936 with 0 Axes>"
      ]
     },
     "metadata": {},
     "output_type": "display_data"
    }
   ],
   "source": [
    "#Creating a barchart showing our top predictors in the random forest model\n",
    "sorted_idx = rf.feature_importances_.argsort()[::-1]\n",
    "\n",
    "\n",
    "\n",
    "plt.barh(X_train_vectors.columns[sorted_idx][0:10], rf.feature_importances_[sorted_idx][0:10])\n",
    "plt.title('Top Predictors', fontsize = 19)\n",
    "plt.yticks(fontsize = 12)\n",
    "plt.xticks(fontsize = 12)\n",
    "plt.ylabel('Word', fontsize = 16)\n",
    "plt.xlabel('Random Forest Coef', fontsize = 16)\n",
    "plt.savefig('./images/top_predictors.png')\n",
    "plt.figure(figsize = (13,13))\n",
    "\n",
    "\n",
    "\n",
    "\n",
    "plt.show;\n",
    "\n"
   ]
  },
  {
   "cell_type": "markdown",
   "id": "e4f54a83-5f93-48ff-a7ef-353b5512a6c6",
   "metadata": {},
   "source": [
    "We can see that our more important features were 'said', 'told', 'asked', 'asking', and 'upset'. The frequency of gerunds as well as the similarity of 'asking' and 'asked' has us concerned with how we cleaned our features and how they were vectorized. In future tuning of the models, it would be recommended to explore stemming to remove these similar words. "
   ]
  },
  {
   "cell_type": "code",
   "execution_count": null,
   "id": "3aec872e-1bfd-4948-ac08-d75cbbca6999",
   "metadata": {},
   "outputs": [],
   "source": []
  }
 ],
 "metadata": {
  "kernelspec": {
   "display_name": "Python 3",
   "language": "python",
   "name": "python3"
  },
  "language_info": {
   "codemirror_mode": {
    "name": "ipython",
    "version": 3
   },
   "file_extension": ".py",
   "mimetype": "text/x-python",
   "name": "python",
   "nbconvert_exporter": "python",
   "pygments_lexer": "ipython3",
   "version": "3.8.8"
  }
 },
 "nbformat": 4,
 "nbformat_minor": 5
}
